{
 "cells": [
  {
   "cell_type": "code",
   "execution_count": 1,
   "metadata": {},
   "outputs": [],
   "source": [
    "import pyodbc as db\n",
    "import pandas as pd"
   ]
  },
  {
   "cell_type": "code",
   "execution_count": 11,
   "metadata": {},
   "outputs": [],
   "source": [
    "SERVER = 'pw2-g2-y2-sqlserver.database.windows.net'\n",
    "DATABASE = 'BC_Data'\n",
    "USERNAME = 'group2_admin_pw2'\n",
    "PASSWORD = 'AlfaBravo2'\n",
    "connectionString = f'DRIVER={{SQL Server}};SERVER={SERVER};DATABASE={DATABASE};UID={USERNAME};PWD={PASSWORD}'"
   ]
  },
  {
   "cell_type": "code",
   "execution_count": 12,
   "metadata": {},
   "outputs": [],
   "source": [
    "conn = db.connect(connectionString)"
   ]
  },
  {
   "cell_type": "markdown",
   "metadata": {},
   "source": [
    "# Machine Learning"
   ]
  },
  {
   "cell_type": "markdown",
   "metadata": {},
   "source": [
    "## Regressors"
   ]
  },
  {
   "cell_type": "markdown",
   "metadata": {},
   "source": [
    "Our group has developed a regressor that predicts the ASR given certain values, here is a sample of the table used for said prediction:\n",
    "|cluster_sdi|country|year|risk|ASR|SDI|\n",
    "|---|---|---|---|---|---|\n",
    "|Low|Bolivia|2019|Metabolic risks|1.2053777|0.566|\n",
    "|Low-middle|American Samoa|2007|Dietary risks|0.4175736|0.667|\n",
    "|Low|India|2018|Metabolic risks|0.668715|0.558|\n",
    "|Middle|Georgia|2005|Tobacco|0.7310083|0.646|\n",
    "|Low|Guatemala|2018|Low physical activit|0.0223396|0.522|\n",
    "|High|Denmark|2016|Tobacco|1.2097754|0.884|\n",
    "|Low|Belize|2002|Low physical activit|0.118005|0.515|\n",
    "|Low|Guinea-Bissau|2000|Alcohol use|0.495362|0.249|\n",
    "|Low-middle|Moldova|2018|Alcohol use|1.0012355|0.693|\n",
    "|Low|Bolivia|1995|Tobacco|0.2720063|0.441|\n",
    "\n",
    "Azure AI proposed a **VotingEnsemble** made of 3 models:\n",
    "1. **XGBoostRegressor** with **StandardScalerWrapper**\n",
    "2. **XGBoostRegressor** with **MaxAbsScaler**\n",
    "3. **LightGBM** with **MaxAbsScaler**\n",
    "\n",
    "Given the impossibility of feeding the model data scaled in 2 different ways, point 1 was removed\n"
   ]
  },
  {
   "cell_type": "markdown",
   "metadata": {},
   "source": [
    "### Data Extraction"
   ]
  },
  {
   "cell_type": "code",
   "execution_count": 15,
   "metadata": {},
   "outputs": [
    {
     "name": "stderr",
     "output_type": "stream",
     "text": [
      "C:\\Users\\ArieleBernasconi\\AppData\\Local\\Temp\\ipykernel_1116\\3817004892.py:5: UserWarning: pandas only supports SQLAlchemy connectable (engine/connection) or database string URI or sqlite3 DBAPI2 connection. Other DBAPI2 objects are not tested. Please consider using SQLAlchemy.\n",
      "  df_train =pd.read_sql(query_train_data,conn)\n",
      "C:\\Users\\ArieleBernasconi\\AppData\\Local\\Temp\\ipykernel_1116\\3817004892.py:6: UserWarning: pandas only supports SQLAlchemy connectable (engine/connection) or database string URI or sqlite3 DBAPI2 connection. Other DBAPI2 objects are not tested. Please consider using SQLAlchemy.\n",
      "  df_test =pd.read_sql_query(query_test_data,conn)\n"
     ]
    }
   ],
   "source": [
    "# Querys\n",
    "query_train_data = \"SELECT * FROM ml.sdicluster_country_risk_asr_sdi WHERE year<2014 ORDER BY year\"\n",
    "query_test_data = \"SELECT * FROM ml.sdicluster_country_risk_asr_sdi WHERE year>2013 ORDER BY year\"\n",
    "# Dtaframes\n",
    "df_train =pd.read_sql(query_train_data,conn)\n",
    "df_test =pd.read_sql_query(query_test_data,conn)"
   ]
  },
  {
   "cell_type": "code",
   "execution_count": 16,
   "metadata": {},
   "outputs": [
    {
     "ename": "TypeError",
     "evalue": "read_sql() missing 1 required positional argument: 'con'",
     "output_type": "error",
     "traceback": [
      "\u001b[1;31m---------------------------------------------------------------------------\u001b[0m",
      "\u001b[1;31mTypeError\u001b[0m                                 Traceback (most recent call last)",
      "Cell \u001b[1;32mIn[16], line 13\u001b[0m\n\u001b[0;32m     10\u001b[0m \u001b[38;5;28;01mfrom\u001b[39;00m \u001b[38;5;21;01msklearn\u001b[39;00m\u001b[38;5;21;01m.\u001b[39;00m\u001b[38;5;21;01mpreprocessing\u001b[39;00m \u001b[38;5;28;01mimport\u001b[39;00m StandardScaler \u001b[38;5;66;03m# https://scikit-learn.org/stable/modules/generated/sklearn.preprocessing.StandardScaler.html#sklearn.preprocessing.StandardScaler\u001b[39;00m\n\u001b[0;32m     12\u001b[0m query_train_data \u001b[38;5;241m=\u001b[39m \u001b[38;5;124m\"\u001b[39m\u001b[38;5;124mselect * from ml.sdicluster_country_risk_asr_sdi where year<2014\u001b[39m\u001b[38;5;124m\"\u001b[39m\n\u001b[1;32m---> 13\u001b[0m df_train \u001b[38;5;241m=\u001b[39m \u001b[43mpd\u001b[49m\u001b[38;5;241;43m.\u001b[39;49m\u001b[43mread_sql\u001b[49m\u001b[43m(\u001b[49m\u001b[43mconn\u001b[49m\u001b[43m \u001b[49m\u001b[43m)\u001b[49m\n",
      "\u001b[1;31mTypeError\u001b[0m: read_sql() missing 1 required positional argument: 'con'"
     ]
    }
   ],
   "source": [
    "# MODELS\n",
    "from sklearn.ensemble import VotingRegressor as vr #voting model https://scikit-learn.org/stable/modules/generated/sklearn.ensemble.VotingRegressor.html\n",
    "\n",
    "from sklearn.ensemble import GradientBoostingRegressor as gbr #XGboost substitute https://scikit-learn.org/stable/modules/generated/sklearn.ensemble.GradientBoostingRegressor.html#sklearn.ensemble.GradientBoostingRegressor\n",
    "from sklearn.ensemble import HistGradientBoostingRegressor as hgbr #LightGBM substitute https://scikit-learn.org/stable/modules/generated/sklearn.ensemble.HistGradientBoostingRegressor.html\n",
    "\n",
    "# SCALERS\n",
    "from sklearn.preprocessing import MaxAbsScaler as MAScl# https://scikit-learn.org/stable/modules/generated/sklearn.preprocessing.MaxAbsScaler.html#sklearn.preprocessing.MaxAbsScaler\n",
    "\n",
    "# from sklearn.preprocessing import StandardScaler as SScl # https://scikit-learn.org/stable/modules/generated/sklearn.preprocessing.StandardScaler.html#sklearn.preprocessing.StandardScaler \n",
    "\n",
    "# SCALING\n",
    "df_gbr_MAScl = \n",
    "\n",
    "\n",
    "\n",
    "\n",
    "# TRAINING\n",
    "\n"
   ]
  }
 ],
 "metadata": {
  "kernelspec": {
   "display_name": "Python 3",
   "language": "python",
   "name": "python3"
  },
  "language_info": {
   "codemirror_mode": {
    "name": "ipython",
    "version": 3
   },
   "file_extension": ".py",
   "mimetype": "text/x-python",
   "name": "python",
   "nbconvert_exporter": "python",
   "pygments_lexer": "ipython3",
   "version": "3.12.1"
  }
 },
 "nbformat": 4,
 "nbformat_minor": 2
}
