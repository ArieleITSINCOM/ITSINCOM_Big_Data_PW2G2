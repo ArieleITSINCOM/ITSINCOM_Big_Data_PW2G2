{
 "cells": [
  {
   "cell_type": "code",
   "execution_count": 1,
   "metadata": {},
   "outputs": [],
   "source": [
    "import pyodbc as db\n",
    "import pandas as pd"
   ]
  },
  {
   "cell_type": "code",
   "execution_count": 2,
   "metadata": {},
   "outputs": [],
   "source": [
    "SERVER = 'pw2-g2-y2-sqlserver.database.windows.net'\n",
    "DATABASE = 'BC_Data'\n",
    "USERNAME = 'group2_admin_pw2'\n",
    "PASSWORD = 'AlfaBravo2'\n",
    "connectionString = f'DRIVER={{SQL Server}};SERVER={SERVER};DATABASE={DATABASE};UID={USERNAME};PWD={PASSWORD}'"
   ]
  },
  {
   "cell_type": "code",
   "execution_count": 3,
   "metadata": {},
   "outputs": [],
   "source": [
    "conn = db.connect(connectionString)"
   ]
  },
  {
   "cell_type": "markdown",
   "metadata": {},
   "source": [
    "# Machine Learning"
   ]
  },
  {
   "cell_type": "markdown",
   "metadata": {},
   "source": [
    "## Regressors"
   ]
  },
  {
   "cell_type": "markdown",
   "metadata": {},
   "source": [
    "Our group has developed a regressor that predicts the ASR given certain values, here is a sample of the table used for said prediction:\n",
    "|cluster_sdi|country|year|risk|ASR|SDI|\n",
    "|---|---|---|---|---|---|\n",
    "|Low|Bolivia|2019|Metabolic risks|1.2053777|0.566|\n",
    "|Low-middle|American Samoa|2007|Dietary risks|0.4175736|0.667|\n",
    "|Low|India|2018|Metabolic risks|0.668715|0.558|\n",
    "|Middle|Georgia|2005|Tobacco|0.7310083|0.646|\n",
    "|Low|Guatemala|2018|Low physical activit|0.0223396|0.522|\n",
    "|High|Denmark|2016|Tobacco|1.2097754|0.884|\n",
    "|Low|Belize|2002|Low physical activit|0.118005|0.515|\n",
    "|Low|Guinea-Bissau|2000|Alcohol use|0.495362|0.249|\n",
    "|Low-middle|Moldova|2018|Alcohol use|1.0012355|0.693|\n",
    "|Low|Bolivia|1995|Tobacco|0.2720063|0.441|\n"
   ]
  },
  {
   "cell_type": "code",
   "execution_count": 5,
   "metadata": {},
   "outputs": [],
   "source": [
    "# MODELS\n",
    "from sklearn.ensemble import VotingRegressor #voting model https://scikit-learn.org/stable/modules/generated/sklearn.ensemble.VotingRegressor.html\n",
    "\n",
    "from sklearn.ensemble import GradientBoostingRegressor #XGboost substitute https://scikit-learn.org/stable/modules/generated/sklearn.ensemble.GradientBoostingRegressor.html#sklearn.ensemble.GradientBoostingRegressor\n",
    "from sklearn.ensemble import HistGradientBoostingRegressor #LightGBM substitute https://scikit-learn.org/stable/modules/generated/sklearn.ensemble.HistGradientBoostingRegressor.html\n",
    "\n",
    "# SCALERS\n",
    "from sklearn.preprocessing import MaxAbsScaler#https://scikit-learn.org/stable/modules/generated/sklearn.preprocessing.MaxAbsScaler.html#sklearn.preprocessing.MaxAbsScaler\n",
    "\n",
    "from sklearn.preprocessing import StandardScaler # https://scikit-learn.org/stable/modules/generated/sklearn.preprocessing.StandardScaler.html#sklearn.preprocessing.StandardScaler\n",
    "\n",
    "df_train =\n",
    "df_test =\n"
   ]
  }
 ],
 "metadata": {
  "kernelspec": {
   "display_name": "Python 3",
   "language": "python",
   "name": "python3"
  },
  "language_info": {
   "codemirror_mode": {
    "name": "ipython",
    "version": 3
   },
   "file_extension": ".py",
   "mimetype": "text/x-python",
   "name": "python",
   "nbconvert_exporter": "python",
   "pygments_lexer": "ipython3",
   "version": "3.12.1"
  }
 },
 "nbformat": 4,
 "nbformat_minor": 2
}
