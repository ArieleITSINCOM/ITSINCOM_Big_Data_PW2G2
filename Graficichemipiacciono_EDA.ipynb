{
  "cells": [
    {
      "cell_type": "markdown",
      "metadata": {
        "id": "kFKSDRl95R-G"
      },
      "source": [
        "# Data Cleaning"
      ]
    },
    {
      "cell_type": "code",
      "execution_count": 39,
      "metadata": {
        "id": "pBhFjXfQrd3A"
      },
      "outputs": [],
      "source": [
        "import pandas as pd\n",
        "import numpy as np\n",
        "import matplotlib.pyplot as plt\n",
        "import seaborn as sns\n",
        "\n"
      ]
    },
    {
      "cell_type": "code",
      "execution_count": 40,
      "metadata": {
        "id": "u87jtHN8P3pd"
      },
      "outputs": [],
      "source": [
        "pd.options.mode.chained_assignment = None\n"
      ]
    },
    {
      "cell_type": "code",
      "execution_count": 4,
      "metadata": {
        "id": "nhYSe9Dkrf59"
      },
      "outputs": [
        {
          "name": "stdout",
          "output_type": "stream",
          "text": [
            "         measure     location   sex               age          cause   metric  \\\n",
            "0         Deaths  Timor-Leste  Both          All ages  Breast cancer   Number   \n",
            "1         Deaths  Timor-Leste  Both          All ages  Breast cancer  Percent   \n",
            "2         Deaths  Timor-Leste  Both          All ages  Breast cancer     Rate   \n",
            "3         Deaths  Timor-Leste  Both  Age-standardized  Breast cancer     Rate   \n",
            "4         Deaths        Haiti  Both          All ages  Breast cancer   Number   \n",
            "...          ...          ...   ...               ...            ...      ...   \n",
            "51403  Incidence   Venezuela   Both          All ages  Breast cancer   Number   \n",
            "51404  Incidence   Venezuela   Both          All ages  Breast cancer  Percent   \n",
            "51405  Incidence   Venezuela   Both          All ages  Breast cancer     Rate   \n",
            "51406  Incidence   Venezuela   Both  Age-standardized  Breast cancer  Percent   \n",
            "51407  Incidence   Venezuela   Both  Age-standardized  Breast cancer     Rate   \n",
            "\n",
            "       year           val         upper         lower  \n",
            "0      1990    22.7709528    30.8629702    16.3369074  \n",
            "1      1990     0.0029145     0.0038595     0.0021936  \n",
            "2      1990     2.9083065     3.9418191     2.0865501  \n",
            "3      1990     6.4458711     8.4105684     4.6504682  \n",
            "4      1990   499.4780262   633.9067779   391.0713797  \n",
            "...     ...           ...           ...           ...  \n",
            "51403  2015  7655.8805490  9013.2026220  6473.2309470  \n",
            "51404  2015     0.0000486     0.0000575     0.0000407  \n",
            "51405  2015    25.6378063    30.1831698    21.6773812  \n",
            "51406  2015     0.0000514     0.0000607     0.0000433  \n",
            "51407  2015    27.4041411    32.0013638    23.2760563  \n",
            "\n",
            "[51408 rows x 10 columns]\n"
          ]
        }
      ],
      "source": [
        "#connessione ml.nation\n",
        "\n",
        "# nation_df.head(5)\n",
        "\n",
        "import pyodbc\n",
        "import pandas as pd\n",
        "# Parametri di connessione al database SQL Azure\n",
        "server = 'pw2-g2-y2-sqlserver.database.windows.net'\n",
        "database = 'BC_Data'\n",
        "username = 'group2_admin_pw2'\n",
        "password = 'AlfaBravo2'\n",
        "driver = '{ODBC Driver 17 for SQL Server}'  # Potrebbe variare a seconda del driver installato\n",
        "\n",
        "# Stringa di connessione\n",
        "connection_string = f'DRIVER={driver};SERVER={server};DATABASE={database};UID={username};PWD={password}'\n",
        "\n",
        "# Query SELECT FROM ml.region_sex\n",
        "query = 'SELECT * FROM ml.nation'\n",
        "\n",
        "try:\n",
        "    # Connessione al database\n",
        "    conn = pyodbc.connect(connection_string)\n",
        "    cursor = conn.cursor()\n",
        "\n",
        "    # Esecuzione della query SELECT\n",
        "    cursor.execute(query)\n",
        "\n",
        "  # Recupero dei risultati e creazione di un DataFrame\n",
        "    columns = [column[0] for column in cursor.description]\n",
        "    rows = cursor.fetchall()\n",
        "    data = [tuple(row) for row in rows]\n",
        "    \n",
        "    nation_df = pd.DataFrame(data, columns=columns)\n",
        "\n",
        "    # Stampa del DataFrame\n",
        "    print(nation_df)\n",
        "    \n",
        "\n",
        "except Exception as e:\n",
        "    print(f'Errore durante l\\'esecuzione della query: {str(e)}')\n",
        "\n",
        "finally:\n",
        "    # Chiudi la connessione quando hai finito\n",
        "    conn.close()"
      ]
    },
    {
      "cell_type": "code",
      "execution_count": 38,
      "metadata": {},
      "outputs": [
        {
          "name": "stdout",
          "output_type": "stream",
          "text": [
            "     measure  year   sex       age                  cause   metric  Location  \\\n",
            "0     DALYs   1990  Both  All ages        Metabolic risks     Rate    Global   \n",
            "1     DALYs   1990  Both  All ages          Dietary risks   Number    Global   \n",
            "2     DALYs   1990  Both  All ages          Dietary risks  Percent    Global   \n",
            "3     DALYs   1990  Both  All ages          Dietary risks     Rate    Global   \n",
            "4     DALYs   1990  Both  All ages  Low physical activity   Number    Global   \n",
            "...      ...   ...   ...       ...                    ...      ...       ...   \n",
            "5035  Deaths  2015  Both  All ages          Dietary risks  Percent  High SDI   \n",
            "5036  Deaths  2015  Both  All ages          Dietary risks     Rate  High SDI   \n",
            "5037  Deaths  2015  Both  All ages  Low physical activity   Number  High SDI   \n",
            "5038  Deaths  2015  Both  All ages  Low physical activity  Percent  High SDI   \n",
            "5039  Deaths  2015  Both  All ages  Low physical activity     Rate  High SDI   \n",
            "\n",
            "                 val           upper           lower  \n",
            "0         13.9749707      27.0729679       4.7490287  \n",
            "1     409909.0488000  544545.8288000  203474.0189000  \n",
            "2          0.0350996       0.0461937       0.0172341  \n",
            "3          7.6620695      10.1787165       3.8033610  \n",
            "4     109945.7129000  202204.2230000   51945.6522300  \n",
            "...              ...             ...             ...  \n",
            "5035       0.0448782       0.0591111       0.0215443  \n",
            "5036       0.7266019       0.9714176       0.3470638  \n",
            "5037    2546.8530130    4513.0078160     978.6088313  \n",
            "5038       0.0158691       0.0281105       0.0060158  \n",
            "5039       0.2571251       0.4556241       0.0987984  \n",
            "\n",
            "[5040 rows x 10 columns]\n"
          ]
        }
      ],
      "source": [
        "#connessione ml.percent1\n",
        "import pyodbc\n",
        "import pandas as pd\n",
        "# Parametri di connessione al database SQL Azure\n",
        "server = 'pw2-g2-y2-sqlserver.database.windows.net'\n",
        "database = 'BC_Data'\n",
        "username = 'group2_admin_pw2'\n",
        "password = 'AlfaBravo2'\n",
        "driver = '{ODBC Driver 17 for SQL Server}'  # Potrebbe variare a seconda del driver installato\n",
        "\n",
        "# Stringa di connessione\n",
        "connection_string = f'DRIVER={driver};SERVER={server};DATABASE={database};UID={username};PWD={password}'\n",
        "\n",
        "# Query SELECT FROM ml.region_sex\n",
        "query = 'SELECT * FROM ml.percent1'\n",
        "\n",
        "try:\n",
        "    # Connessione al database\n",
        "    conn = pyodbc.connect(connection_string)\n",
        "    cursor = conn.cursor()\n",
        "\n",
        "    # Esecuzione della query SELECT\n",
        "    cursor.execute(query)\n",
        "\n",
        "  # Recupero dei risultati e creazione di un DataFrame\n",
        "    columns = [column[0] for column in cursor.description]\n",
        "    rows = cursor.fetchall()\n",
        "    data = [tuple(row) for row in rows]\n",
        "    \n",
        "    percent_df = pd.DataFrame(data, columns=columns)\n",
        "\n",
        "    # Stampa del DataFrame\n",
        "    print(nation_df)\n",
        "    \n",
        "\n",
        "except Exception as e:\n",
        "    print(f'Errore durante l\\'esecuzione della query: {str(e)}')\n",
        "\n",
        "finally:\n",
        "    # Chiudi la connessione quando hai finito\n",
        "    conn.close()\n",
        "    \n",
        "    percent_df.head(5)"
      ]
    },
    {
      "cell_type": "code",
      "execution_count": 20,
      "metadata": {
        "id": "LD_OtXPTsNAH"
      },
      "outputs": [
        {
          "name": "stdout",
          "output_type": "stream",
          "text": [
            "     measure  year   sex       age                  cause   metric  Location  \\\n",
            "0     DALYs   1990  Both  All ages        Metabolic risks     Rate    Global   \n",
            "1     DALYs   1990  Both  All ages          Dietary risks   Number    Global   \n",
            "2     DALYs   1990  Both  All ages          Dietary risks  Percent    Global   \n",
            "3     DALYs   1990  Both  All ages          Dietary risks     Rate    Global   \n",
            "4     DALYs   1990  Both  All ages  Low physical activity   Number    Global   \n",
            "...      ...   ...   ...       ...                    ...      ...       ...   \n",
            "5035  Deaths  2015  Both  All ages          Dietary risks  Percent  High SDI   \n",
            "5036  Deaths  2015  Both  All ages          Dietary risks     Rate  High SDI   \n",
            "5037  Deaths  2015  Both  All ages  Low physical activity   Number  High SDI   \n",
            "5038  Deaths  2015  Both  All ages  Low physical activity  Percent  High SDI   \n",
            "5039  Deaths  2015  Both  All ages  Low physical activity     Rate  High SDI   \n",
            "\n",
            "                 val           upper           lower  \n",
            "0         13.9749707      27.0729679       4.7490287  \n",
            "1     409909.0488000  544545.8288000  203474.0189000  \n",
            "2          0.0350996       0.0461937       0.0172341  \n",
            "3          7.6620695      10.1787165       3.8033610  \n",
            "4     109945.7129000  202204.2230000   51945.6522300  \n",
            "...              ...             ...             ...  \n",
            "5035       0.0448782       0.0591111       0.0215443  \n",
            "5036       0.7266019       0.9714176       0.3470638  \n",
            "5037    2546.8530130    4513.0078160     978.6088313  \n",
            "5038       0.0158691       0.0281105       0.0060158  \n",
            "5039       0.2571251       0.4556241       0.0987984  \n",
            "\n",
            "[5040 rows x 10 columns]\n"
          ]
        }
      ],
      "source": [
        "#connessione ml.region_sdi\n",
        "# region_sdi_df.head(5)\n",
        "\n",
        "import pyodbc\n",
        "import pandas as pd\n",
        "# Parametri di connessione al database SQL Azure\n",
        "server = 'pw2-g2-y2-sqlserver.database.windows.net'\n",
        "database = 'BC_Data'\n",
        "username = 'group2_admin_pw2'\n",
        "password = 'AlfaBravo2'\n",
        "driver = '{ODBC Driver 17 for SQL Server}'  # Potrebbe variare a seconda del driver installato\n",
        "\n",
        "# Stringa di connessione\n",
        "connection_string = f'DRIVER={driver};SERVER={server};DATABASE={database};UID={username};PWD={password}'\n",
        "\n",
        "# Query SELECT FROM ml.region_sex\n",
        "query = 'SELECT * FROM ml.region_sdi'\n",
        "\n",
        "try:\n",
        "    # Connessione al database\n",
        "    conn = pyodbc.connect(connection_string)\n",
        "    cursor = conn.cursor()\n",
        "\n",
        "    # Esecuzione della query SELECT\n",
        "    cursor.execute(query)\n",
        "\n",
        "  # Recupero dei risultati e creazione di un DataFrame\n",
        "    columns = [column[0] for column in cursor.description]\n",
        "    rows = cursor.fetchall()\n",
        "    data = [tuple(row) for row in rows]\n",
        "    \n",
        "    region_sdi_df = pd.DataFrame(data, columns=columns)\n",
        "\n",
        "    # Stampa del DataFrame\n",
        "    print(nation_df)\n",
        "    \n",
        "\n",
        "except Exception as e:\n",
        "    print(f'Errore durante l\\'esecuzione della query: {str(e)}')\n",
        "\n",
        "finally:\n",
        "    # Chiudi la connessione quando hai finito\n",
        "    conn.close()"
      ]
    },
    {
      "cell_type": "code",
      "execution_count": 27,
      "metadata": {},
      "outputs": [
        {
          "name": "stdout",
          "output_type": "stream",
          "text": [
            "     measure  year   sex       age                  cause   metric  Location  \\\n",
            "0     DALYs   1990  Both  All ages        Metabolic risks     Rate    Global   \n",
            "1     DALYs   1990  Both  All ages          Dietary risks   Number    Global   \n",
            "2     DALYs   1990  Both  All ages          Dietary risks  Percent    Global   \n",
            "3     DALYs   1990  Both  All ages          Dietary risks     Rate    Global   \n",
            "4     DALYs   1990  Both  All ages  Low physical activity   Number    Global   \n",
            "...      ...   ...   ...       ...                    ...      ...       ...   \n",
            "5035  Deaths  2015  Both  All ages          Dietary risks  Percent  High SDI   \n",
            "5036  Deaths  2015  Both  All ages          Dietary risks     Rate  High SDI   \n",
            "5037  Deaths  2015  Both  All ages  Low physical activity   Number  High SDI   \n",
            "5038  Deaths  2015  Both  All ages  Low physical activity  Percent  High SDI   \n",
            "5039  Deaths  2015  Both  All ages  Low physical activity     Rate  High SDI   \n",
            "\n",
            "                 val           upper           lower  \n",
            "0         13.9749707      27.0729679       4.7490287  \n",
            "1     409909.0488000  544545.8288000  203474.0189000  \n",
            "2          0.0350996       0.0461937       0.0172341  \n",
            "3          7.6620695      10.1787165       3.8033610  \n",
            "4     109945.7129000  202204.2230000   51945.6522300  \n",
            "...              ...             ...             ...  \n",
            "5035       0.0448782       0.0591111       0.0215443  \n",
            "5036       0.7266019       0.9714176       0.3470638  \n",
            "5037    2546.8530130    4513.0078160     978.6088313  \n",
            "5038       0.0158691       0.0281105       0.0060158  \n",
            "5039       0.2571251       0.4556241       0.0987984  \n",
            "\n",
            "[5040 rows x 10 columns]\n"
          ]
        }
      ],
      "source": [
        "#connessione ml.region\n",
        "# region_df.head(5)\n",
        "\n",
        "import pyodbc\n",
        "import pandas as pd\n",
        "# Parametri di connessione al database SQL Azure\n",
        "server = 'pw2-g2-y2-sqlserver.database.windows.net'\n",
        "database = 'BC_Data'\n",
        "username = 'group2_admin_pw2'\n",
        "password = 'AlfaBravo2'\n",
        "driver = '{ODBC Driver 17 for SQL Server}'  # Potrebbe variare a seconda del driver installato\n",
        "\n",
        "# Stringa di connessione\n",
        "connection_string = f'DRIVER={driver};SERVER={server};DATABASE={database};UID={username};PWD={password}'\n",
        "\n",
        "# Query SELECT FROM ml.region_sex\n",
        "query = 'SELECT * FROM ml.region'\n",
        "\n",
        "try:\n",
        "    # Connessione al database\n",
        "    conn = pyodbc.connect(connection_string)\n",
        "    cursor = conn.cursor()\n",
        "\n",
        "    # Esecuzione della query SELECT\n",
        "    cursor.execute(query)\n",
        "\n",
        "  # Recupero dei risultati e creazione di un DataFrame\n",
        "    columns = [column[0] for column in cursor.description]\n",
        "    rows = cursor.fetchall()\n",
        "    data = [tuple(row) for row in rows]\n",
        "    \n",
        "    region_df = pd.DataFrame(data, columns=columns)\n",
        "\n",
        "    # Stampa del DataFrame\n",
        "    print(nation_df)\n",
        "    \n",
        "\n",
        "except Exception as e:\n",
        "    print(f'Errore durante l\\'esecuzione della query: {str(e)}')\n",
        "\n",
        "finally:\n",
        "    # Chiudi la connessione quando hai finito\n",
        "    conn.close()"
      ]
    },
    {
      "cell_type": "code",
      "execution_count": 5,
      "metadata": {
        "id": "5YBBOU2OxwLG"
      },
      "outputs": [],
      "source": [
        "nation_df = nation_df[(nation_df['age'] == 'All ages') & (nation_df['measure'] == 'Deaths') & (nation_df['metric'] != 'Number')]\n",
        "\n",
        "nation_df.drop(columns=[\n",
        "  'measure',\n",
        "  'sex',\n",
        "  'age',\n",
        "  'cause',\n",
        "  'upper',\n",
        "  'lower'\n",
        "], inplace=True)\n",
        "\n",
        "nation_df.reset_index(drop=True, inplace=True)"
      ]
    },
    {
      "cell_type": "code",
      "execution_count": 6,
      "metadata": {
        "colab": {
          "base_uri": "https://localhost:8080/",
          "height": 206
        },
        "id": "4o3yUY53ycUZ",
        "outputId": "f6f976da-b2cf-48bc-83f7-46f22f07683a"
      },
      "outputs": [
        {
          "data": {
            "text/html": [
              "<div>\n",
              "<style scoped>\n",
              "    .dataframe tbody tr th:only-of-type {\n",
              "        vertical-align: middle;\n",
              "    }\n",
              "\n",
              "    .dataframe tbody tr th {\n",
              "        vertical-align: top;\n",
              "    }\n",
              "\n",
              "    .dataframe thead th {\n",
              "        text-align: right;\n",
              "    }\n",
              "</style>\n",
              "<table border=\"1\" class=\"dataframe\">\n",
              "  <thead>\n",
              "    <tr style=\"text-align: right;\">\n",
              "      <th></th>\n",
              "      <th>location</th>\n",
              "      <th>metric</th>\n",
              "      <th>year</th>\n",
              "      <th>val</th>\n",
              "    </tr>\n",
              "  </thead>\n",
              "  <tbody>\n",
              "    <tr>\n",
              "      <th>0</th>\n",
              "      <td>Timor-Leste</td>\n",
              "      <td>Percent</td>\n",
              "      <td>1990</td>\n",
              "      <td>0.0029145</td>\n",
              "    </tr>\n",
              "    <tr>\n",
              "      <th>1</th>\n",
              "      <td>Timor-Leste</td>\n",
              "      <td>Rate</td>\n",
              "      <td>1990</td>\n",
              "      <td>2.9083065</td>\n",
              "    </tr>\n",
              "    <tr>\n",
              "      <th>2</th>\n",
              "      <td>Haiti</td>\n",
              "      <td>Percent</td>\n",
              "      <td>1990</td>\n",
              "      <td>0.0059427</td>\n",
              "    </tr>\n",
              "    <tr>\n",
              "      <th>3</th>\n",
              "      <td>Haiti</td>\n",
              "      <td>Rate</td>\n",
              "      <td>1990</td>\n",
              "      <td>7.8587058</td>\n",
              "    </tr>\n",
              "    <tr>\n",
              "      <th>4</th>\n",
              "      <td>Lebanon</td>\n",
              "      <td>Percent</td>\n",
              "      <td>1990</td>\n",
              "      <td>0.0142309</td>\n",
              "    </tr>\n",
              "  </tbody>\n",
              "</table>\n",
              "</div>"
            ],
            "text/plain": [
              "      location   metric  year        val\n",
              "0  Timor-Leste  Percent  1990  0.0029145\n",
              "1  Timor-Leste     Rate  1990  2.9083065\n",
              "2        Haiti  Percent  1990  0.0059427\n",
              "3        Haiti     Rate  1990  7.8587058\n",
              "4      Lebanon  Percent  1990  0.0142309"
            ]
          },
          "execution_count": 6,
          "metadata": {},
          "output_type": "execute_result"
        }
      ],
      "source": [
        "nation_df.head(5)"
      ]
    },
    {
      "cell_type": "code",
      "execution_count": 21,
      "metadata": {
        "id": "gPFZqNNR29Uo"
      },
      "outputs": [],
      "source": [
        "region_sdi_df = region_sdi_df[(region_sdi_df['age'] == 'All ages') & (region_sdi_df['location'] != 'Global') & (region_sdi_df['measure'] == 'Deaths') & (region_sdi_df['metric'] != 'Number')]\n",
        "\n",
        "region_sdi_df.drop(columns=[\n",
        "  'measure',\n",
        "  'sex',\n",
        "  'age',\n",
        "  'cause',\n",
        "  'upper',\n",
        "  'lower'\n",
        "], inplace=True)\n",
        "\n",
        "region_sdi_df.reset_index(drop=True, inplace=True)"
      ]
    },
    {
      "cell_type": "code",
      "execution_count": 22,
      "metadata": {
        "colab": {
          "base_uri": "https://localhost:8080/",
          "height": 206
        },
        "id": "p3SnVq6M3SEG",
        "outputId": "36a51475-7378-4c1b-e3da-7babc8085086"
      },
      "outputs": [
        {
          "data": {
            "text/html": [
              "<div>\n",
              "<style scoped>\n",
              "    .dataframe tbody tr th:only-of-type {\n",
              "        vertical-align: middle;\n",
              "    }\n",
              "\n",
              "    .dataframe tbody tr th {\n",
              "        vertical-align: top;\n",
              "    }\n",
              "\n",
              "    .dataframe thead th {\n",
              "        text-align: right;\n",
              "    }\n",
              "</style>\n",
              "<table border=\"1\" class=\"dataframe\">\n",
              "  <thead>\n",
              "    <tr style=\"text-align: right;\">\n",
              "      <th></th>\n",
              "      <th>location</th>\n",
              "      <th>metric</th>\n",
              "      <th>year</th>\n",
              "      <th>val</th>\n",
              "    </tr>\n",
              "  </thead>\n",
              "  <tbody>\n",
              "    <tr>\n",
              "      <th>0</th>\n",
              "      <td>High SDI</td>\n",
              "      <td>Rate</td>\n",
              "      <td>1990</td>\n",
              "      <td>16.7204937</td>\n",
              "    </tr>\n",
              "    <tr>\n",
              "      <th>1</th>\n",
              "      <td>High-middle SDI</td>\n",
              "      <td>Rate</td>\n",
              "      <td>1991</td>\n",
              "      <td>9.2293637</td>\n",
              "    </tr>\n",
              "    <tr>\n",
              "      <th>2</th>\n",
              "      <td>Low-middle SDI</td>\n",
              "      <td>Rate</td>\n",
              "      <td>1990</td>\n",
              "      <td>4.1180962</td>\n",
              "    </tr>\n",
              "    <tr>\n",
              "      <th>3</th>\n",
              "      <td>Low SDI</td>\n",
              "      <td>Rate</td>\n",
              "      <td>1990</td>\n",
              "      <td>3.6949081</td>\n",
              "    </tr>\n",
              "    <tr>\n",
              "      <th>4</th>\n",
              "      <td>Low-middle SDI</td>\n",
              "      <td>Rate</td>\n",
              "      <td>1991</td>\n",
              "      <td>4.1448189</td>\n",
              "    </tr>\n",
              "  </tbody>\n",
              "</table>\n",
              "</div>"
            ],
            "text/plain": [
              "          location metric  year         val\n",
              "0         High SDI   Rate  1990  16.7204937\n",
              "1  High-middle SDI   Rate  1991   9.2293637\n",
              "2   Low-middle SDI   Rate  1990   4.1180962\n",
              "3          Low SDI   Rate  1990   3.6949081\n",
              "4   Low-middle SDI   Rate  1991   4.1448189"
            ]
          },
          "execution_count": 22,
          "metadata": {},
          "output_type": "execute_result"
        }
      ],
      "source": [
        "region_sdi_df.head(5)"
      ]
    },
    {
      "cell_type": "code",
      "execution_count": 15,
      "metadata": {
        "id": "xa3HFY_MsMLX"
      },
      "outputs": [
        {
          "data": {
            "text/html": [
              "<div>\n",
              "<style scoped>\n",
              "    .dataframe tbody tr th:only-of-type {\n",
              "        vertical-align: middle;\n",
              "    }\n",
              "\n",
              "    .dataframe tbody tr th {\n",
              "        vertical-align: top;\n",
              "    }\n",
              "\n",
              "    .dataframe thead th {\n",
              "        text-align: right;\n",
              "    }\n",
              "</style>\n",
              "<table border=\"1\" class=\"dataframe\">\n",
              "  <thead>\n",
              "    <tr style=\"text-align: right;\">\n",
              "      <th></th>\n",
              "      <th>measure</th>\n",
              "      <th>location</th>\n",
              "      <th>sex</th>\n",
              "      <th>age</th>\n",
              "      <th>cause</th>\n",
              "      <th>metric</th>\n",
              "      <th>year</th>\n",
              "      <th>val</th>\n",
              "      <th>upper</th>\n",
              "      <th>lower</th>\n",
              "    </tr>\n",
              "  </thead>\n",
              "  <tbody>\n",
              "    <tr>\n",
              "      <th>0</th>\n",
              "      <td>DALYs (Disability-Adjusted Life Years)</td>\n",
              "      <td>1990</td>\n",
              "      <td>Both</td>\n",
              "      <td>All ages</td>\n",
              "      <td>Metabolic risks</td>\n",
              "      <td>Rate</td>\n",
              "      <td>G</td>\n",
              "      <td>13.974971</td>\n",
              "      <td>27.072968</td>\n",
              "      <td>4.749029</td>\n",
              "    </tr>\n",
              "    <tr>\n",
              "      <th>1</th>\n",
              "      <td>DALYs (Disability-Adjusted Life Years)</td>\n",
              "      <td>1990</td>\n",
              "      <td>Both</td>\n",
              "      <td>All ages</td>\n",
              "      <td>Dietary risks</td>\n",
              "      <td>Number</td>\n",
              "      <td>G</td>\n",
              "      <td>409909.048800</td>\n",
              "      <td>544545.828800</td>\n",
              "      <td>203474.018900</td>\n",
              "    </tr>\n",
              "    <tr>\n",
              "      <th>2</th>\n",
              "      <td>DALYs (Disability-Adjusted Life Years)</td>\n",
              "      <td>1990</td>\n",
              "      <td>Both</td>\n",
              "      <td>All ages</td>\n",
              "      <td>Dietary risks</td>\n",
              "      <td>Percent</td>\n",
              "      <td>G</td>\n",
              "      <td>0.035100</td>\n",
              "      <td>0.046194</td>\n",
              "      <td>0.017234</td>\n",
              "    </tr>\n",
              "    <tr>\n",
              "      <th>3</th>\n",
              "      <td>DALYs (Disability-Adjusted Life Years)</td>\n",
              "      <td>1990</td>\n",
              "      <td>Both</td>\n",
              "      <td>All ages</td>\n",
              "      <td>Dietary risks</td>\n",
              "      <td>Rate</td>\n",
              "      <td>G</td>\n",
              "      <td>7.662070</td>\n",
              "      <td>10.178716</td>\n",
              "      <td>3.803361</td>\n",
              "    </tr>\n",
              "    <tr>\n",
              "      <th>4</th>\n",
              "      <td>DALYs (Disability-Adjusted Life Years)</td>\n",
              "      <td>1990</td>\n",
              "      <td>Both</td>\n",
              "      <td>All ages</td>\n",
              "      <td>Low physical activity</td>\n",
              "      <td>Number</td>\n",
              "      <td>G</td>\n",
              "      <td>109945.712900</td>\n",
              "      <td>202204.223000</td>\n",
              "      <td>51945.652230</td>\n",
              "    </tr>\n",
              "  </tbody>\n",
              "</table>\n",
              "</div>"
            ],
            "text/plain": [
              "                                  measure  location   sex       age  \\\n",
              "0  DALYs (Disability-Adjusted Life Years)      1990  Both  All ages   \n",
              "1  DALYs (Disability-Adjusted Life Years)      1990  Both  All ages   \n",
              "2  DALYs (Disability-Adjusted Life Years)      1990  Both  All ages   \n",
              "3  DALYs (Disability-Adjusted Life Years)      1990  Both  All ages   \n",
              "4  DALYs (Disability-Adjusted Life Years)      1990  Both  All ages   \n",
              "\n",
              "                   cause   metric year            val          upper  \\\n",
              "0        Metabolic risks     Rate    G      13.974971      27.072968   \n",
              "1          Dietary risks   Number    G  409909.048800  544545.828800   \n",
              "2          Dietary risks  Percent    G       0.035100       0.046194   \n",
              "3          Dietary risks     Rate    G       7.662070      10.178716   \n",
              "4  Low physical activity   Number    G  109945.712900  202204.223000   \n",
              "\n",
              "           lower  \n",
              "0       4.749029  \n",
              "1  203474.018900  \n",
              "2       0.017234  \n",
              "3       3.803361  \n",
              "4   51945.652230  "
            ]
          },
          "execution_count": 15,
          "metadata": {},
          "output_type": "execute_result"
        }
      ],
      "source": [
        "#percent_df = pd.read_csv('https://itsdati.blob.core.windows.net/dati/BC_Percent1.csv')\n",
        "\n",
        "#percent_df.head()"
      ]
    },
    {
      "cell_type": "code",
      "execution_count": null,
      "metadata": {
        "id": "CEAO-fpWypF4"
      },
      "outputs": [],
      "source": [
        "percent_df = percent_df[(percent_df['age'] == 'All ages') & (percent_df['location'] != 'Global') & (percent_df['measure'] == 'Deaths') & (percent_df['metric'] != 'Number')]\n",
        "\n",
        "percent_df.drop(columns=[\n",
        "  'measure',\n",
        "  'sex',\n",
        "  'age',\n",
        "  'upper',\n",
        "  'lower'\n",
        "], inplace=True)\n",
        "\n",
        "percent_df['location'], percent_df['year'] = percent_df['year'], percent_df['location']\n",
        "\n",
        "percent_df['location'].replace({k:v for (k,v) in zip(percent_df['location'].unique(), region_sdi_df['location'].unique())}, inplace=True)\n",
        "\n",
        "percent_df.reset_index(drop=True, inplace=True)"
      ]
    },
    {
      "cell_type": "code",
      "execution_count": 19,
      "metadata": {
        "colab": {
          "base_uri": "https://localhost:8080/",
          "height": 206
        },
        "id": "knXKeTPizzPG",
        "outputId": "e717ffbb-a055-4b29-8b29-d79a2d21b64a"
      },
      "outputs": [
        {
          "data": {
            "text/html": [
              "<div>\n",
              "<style scoped>\n",
              "    .dataframe tbody tr th:only-of-type {\n",
              "        vertical-align: middle;\n",
              "    }\n",
              "\n",
              "    .dataframe tbody tr th {\n",
              "        vertical-align: top;\n",
              "    }\n",
              "\n",
              "    .dataframe thead th {\n",
              "        text-align: right;\n",
              "    }\n",
              "</style>\n",
              "<table border=\"1\" class=\"dataframe\">\n",
              "  <thead>\n",
              "    <tr style=\"text-align: right;\">\n",
              "      <th></th>\n",
              "      <th>year</th>\n",
              "      <th>cause</th>\n",
              "      <th>metric</th>\n",
              "      <th>Location</th>\n",
              "      <th>val</th>\n",
              "    </tr>\n",
              "  </thead>\n",
              "  <tbody>\n",
              "    <tr>\n",
              "      <th>2536</th>\n",
              "      <td>1990</td>\n",
              "      <td>Tobacco</td>\n",
              "      <td>Percent</td>\n",
              "      <td>Middle SDI</td>\n",
              "      <td>0.0520402</td>\n",
              "    </tr>\n",
              "    <tr>\n",
              "      <th>2537</th>\n",
              "      <td>1990</td>\n",
              "      <td>Tobacco</td>\n",
              "      <td>Rate</td>\n",
              "      <td>Middle SDI</td>\n",
              "      <td>0.2202224</td>\n",
              "    </tr>\n",
              "    <tr>\n",
              "      <th>2539</th>\n",
              "      <td>1990</td>\n",
              "      <td>Alcohol use</td>\n",
              "      <td>Percent</td>\n",
              "      <td>Middle SDI</td>\n",
              "      <td>0.0232587</td>\n",
              "    </tr>\n",
              "    <tr>\n",
              "      <th>2540</th>\n",
              "      <td>1990</td>\n",
              "      <td>Alcohol use</td>\n",
              "      <td>Rate</td>\n",
              "      <td>Middle SDI</td>\n",
              "      <td>0.0983836</td>\n",
              "    </tr>\n",
              "    <tr>\n",
              "      <th>2542</th>\n",
              "      <td>1990</td>\n",
              "      <td>Metabolic risks</td>\n",
              "      <td>Percent</td>\n",
              "      <td>Middle SDI</td>\n",
              "      <td>0.0775231</td>\n",
              "    </tr>\n",
              "  </tbody>\n",
              "</table>\n",
              "</div>"
            ],
            "text/plain": [
              "      year            cause   metric    Location        val\n",
              "2536  1990          Tobacco  Percent  Middle SDI  0.0520402\n",
              "2537  1990          Tobacco     Rate  Middle SDI  0.2202224\n",
              "2539  1990      Alcohol use  Percent  Middle SDI  0.0232587\n",
              "2540  1990      Alcohol use     Rate  Middle SDI  0.0983836\n",
              "2542  1990  Metabolic risks  Percent  Middle SDI  0.0775231"
            ]
          },
          "execution_count": 19,
          "metadata": {},
          "output_type": "execute_result"
        }
      ],
      "source": [
        "percent_df.head(5)"
      ]
    },
    {
      "cell_type": "code",
      "execution_count": 12,
      "metadata": {
        "id": "bOupjYv-sNpP"
      },
      "outputs": [],
      "source": [
        "region_df = pd.read_csv('https://itsdati.blob.core.windows.net/dati/BC_region1.csv')\n",
        "\n",
        "# region_df.head(5)"
      ]
    },
    {
      "cell_type": "code",
      "execution_count": 28,
      "metadata": {
        "id": "z9AdMAj33_gG"
      },
      "outputs": [],
      "source": [
        "region_df = region_df[(region_df['age'] == 'All ages') & (region_df['location'] != 'Global') & (region_df['measure'] == 'Deaths') & (region_df['metric'] != 'Number')]\n",
        "\n",
        "region_df.drop(columns=[\n",
        "  'measure',\n",
        "  'sex',\n",
        "  'age',\n",
        "  'cause',\n",
        "  'upper',\n",
        "  'lower'\n",
        "], inplace=True)\n",
        "\n",
        "region_df.reset_index(drop=True, inplace=True)"
      ]
    },
    {
      "cell_type": "code",
      "execution_count": 29,
      "metadata": {
        "colab": {
          "base_uri": "https://localhost:8080/",
          "height": 206
        },
        "id": "TZzhYWmD4Rr2",
        "outputId": "6f890994-aebb-4a5c-d022-5ee7457a8c0b"
      },
      "outputs": [
        {
          "data": {
            "text/html": [
              "<div>\n",
              "<style scoped>\n",
              "    .dataframe tbody tr th:only-of-type {\n",
              "        vertical-align: middle;\n",
              "    }\n",
              "\n",
              "    .dataframe tbody tr th {\n",
              "        vertical-align: top;\n",
              "    }\n",
              "\n",
              "    .dataframe thead th {\n",
              "        text-align: right;\n",
              "    }\n",
              "</style>\n",
              "<table border=\"1\" class=\"dataframe\">\n",
              "  <thead>\n",
              "    <tr style=\"text-align: right;\">\n",
              "      <th></th>\n",
              "      <th>location</th>\n",
              "      <th>metric</th>\n",
              "      <th>year</th>\n",
              "      <th>val</th>\n",
              "    </tr>\n",
              "  </thead>\n",
              "  <tbody>\n",
              "    <tr>\n",
              "      <th>0</th>\n",
              "      <td>Southeast Asia</td>\n",
              "      <td>Rate</td>\n",
              "      <td>1990</td>\n",
              "      <td>6.2653230</td>\n",
              "    </tr>\n",
              "    <tr>\n",
              "      <th>1</th>\n",
              "      <td>Australasia</td>\n",
              "      <td>Rate</td>\n",
              "      <td>1990</td>\n",
              "      <td>16.0868710</td>\n",
              "    </tr>\n",
              "    <tr>\n",
              "      <th>2</th>\n",
              "      <td>North Africa and Middle East</td>\n",
              "      <td>Rate</td>\n",
              "      <td>1990</td>\n",
              "      <td>3.4558387</td>\n",
              "    </tr>\n",
              "    <tr>\n",
              "      <th>3</th>\n",
              "      <td>Central Sub-Saharan Africa</td>\n",
              "      <td>Rate</td>\n",
              "      <td>1990</td>\n",
              "      <td>4.2038179</td>\n",
              "    </tr>\n",
              "    <tr>\n",
              "      <th>4</th>\n",
              "      <td>High-income North America</td>\n",
              "      <td>Rate</td>\n",
              "      <td>1990</td>\n",
              "      <td>18.8256682</td>\n",
              "    </tr>\n",
              "  </tbody>\n",
              "</table>\n",
              "</div>"
            ],
            "text/plain": [
              "                       location metric  year         val\n",
              "0                Southeast Asia   Rate  1990   6.2653230\n",
              "1                   Australasia   Rate  1990  16.0868710\n",
              "2  North Africa and Middle East   Rate  1990   3.4558387\n",
              "3    Central Sub-Saharan Africa   Rate  1990   4.2038179\n",
              "4     High-income North America   Rate  1990  18.8256682"
            ]
          },
          "execution_count": 29,
          "metadata": {},
          "output_type": "execute_result"
        }
      ],
      "source": [
        "region_df.head(5)"
      ]
    },
    {
      "cell_type": "markdown",
      "metadata": {
        "id": "BF3OhKBQ5OGP"
      },
      "source": [
        "# Descriptive Statistical Analysis"
      ]
    },
    {
      "cell_type": "code",
      "execution_count": 15,
      "metadata": {
        "colab": {
          "base_uri": "https://localhost:8080/",
          "height": 300
        },
        "id": "0-6HC10EFr0Z",
        "outputId": "59ae1c39-1ac9-4187-f5d6-4e56f87da426"
      },
      "outputs": [
        {
          "data": {
            "text/html": [
              "<div>\n",
              "<style scoped>\n",
              "    .dataframe tbody tr th:only-of-type {\n",
              "        vertical-align: middle;\n",
              "    }\n",
              "\n",
              "    .dataframe tbody tr th {\n",
              "        vertical-align: top;\n",
              "    }\n",
              "\n",
              "    .dataframe thead th {\n",
              "        text-align: right;\n",
              "    }\n",
              "</style>\n",
              "<table border=\"1\" class=\"dataframe\">\n",
              "  <thead>\n",
              "    <tr style=\"text-align: right;\">\n",
              "      <th></th>\n",
              "      <th>nation</th>\n",
              "      <th>region</th>\n",
              "      <th>region_sdi</th>\n",
              "      <th>percent</th>\n",
              "    </tr>\n",
              "  </thead>\n",
              "  <tbody>\n",
              "    <tr>\n",
              "      <th>count</th>\n",
              "      <td>11424.000000</td>\n",
              "      <td>588.000000</td>\n",
              "      <td>140.000000</td>\n",
              "      <td>1680.000000</td>\n",
              "    </tr>\n",
              "    <tr>\n",
              "      <th>mean</th>\n",
              "      <td>5.034730</td>\n",
              "      <td>9.588936</td>\n",
              "      <td>8.313292</td>\n",
              "      <td>0.257345</td>\n",
              "    </tr>\n",
              "    <tr>\n",
              "      <th>std</th>\n",
              "      <td>7.144169</td>\n",
              "      <td>5.596122</td>\n",
              "      <td>4.630837</td>\n",
              "      <td>0.422765</td>\n",
              "    </tr>\n",
              "    <tr>\n",
              "      <th>min</th>\n",
              "      <td>0.000575</td>\n",
              "      <td>3.455839</td>\n",
              "      <td>3.694908</td>\n",
              "      <td>0.007054</td>\n",
              "    </tr>\n",
              "    <tr>\n",
              "      <th>25%</th>\n",
              "      <td>0.011501</td>\n",
              "      <td>4.714234</td>\n",
              "      <td>4.478581</td>\n",
              "      <td>0.037005</td>\n",
              "    </tr>\n",
              "    <tr>\n",
              "      <th>50%</th>\n",
              "      <td>0.685484</td>\n",
              "      <td>7.879093</td>\n",
              "      <td>6.071141</td>\n",
              "      <td>0.082127</td>\n",
              "    </tr>\n",
              "    <tr>\n",
              "      <th>75%</th>\n",
              "      <td>7.251616</td>\n",
              "      <td>15.039983</td>\n",
              "      <td>10.816767</td>\n",
              "      <td>0.257757</td>\n",
              "    </tr>\n",
              "    <tr>\n",
              "      <th>max</th>\n",
              "      <td>44.792527</td>\n",
              "      <td>23.588512</td>\n",
              "      <td>16.859194</td>\n",
              "      <td>2.350804</td>\n",
              "    </tr>\n",
              "  </tbody>\n",
              "</table>\n",
              "</div>"
            ],
            "text/plain": [
              "             nation      region  region_sdi      percent\n",
              "count  11424.000000  588.000000  140.000000  1680.000000\n",
              "mean       5.034730    9.588936    8.313292     0.257345\n",
              "std        7.144169    5.596122    4.630837     0.422765\n",
              "min        0.000575    3.455839    3.694908     0.007054\n",
              "25%        0.011501    4.714234    4.478581     0.037005\n",
              "50%        0.685484    7.879093    6.071141     0.082127\n",
              "75%        7.251616   15.039983   10.816767     0.257757\n",
              "max       44.792527   23.588512   16.859194     2.350804"
            ]
          },
          "execution_count": 15,
          "metadata": {},
          "output_type": "execute_result"
        }
      ],
      "source": [
        "stats_df = pd.DataFrame({df_name: df['val'].describe() for df_name, df in zip(['nation', 'region', 'region_sdi', 'percent'], [nation_df, region_df, region_sdi_df, percent_df])})\n",
        "\n",
        "stats_df"
      ]
    },
    {
      "cell_type": "code",
      "execution_count": 24,
      "metadata": {
        "colab": {
          "base_uri": "https://localhost:8080/",
          "height": 727
        },
        "id": "pieAE2WQAj7B",
        "outputId": "9959adb7-abc2-45f3-a23d-85bb9fa04c1a"
      },
      "outputs": [
        {
          "data": {
            "image/png": "[encoded data removed]",
            "text/plain": [
              "<Figure size 1200x800 with 1 Axes>"
            ]
          },
          "metadata": {},
          "output_type": "display_data"
        }
      ],
      "source": [
        "plt.figure(figsize = (12, 8))\n",
        "\n",
        "sns.barplot(x='location', y='val', data=region_sdi_df[region_sdi_df['metric'] == 'Rate'], errorbar=None, color = 'green', order=['High SDI', 'High-middle SDI', 'Middle SDI', 'Low-middle SDI', 'Low SDI'])\n",
        "\n",
        "plt.title('SDI Levels for death')\n",
        "plt.xlabel('SDI Level')\n",
        "plt.ylabel('Percentage')\n",
        "\n",
        "plt.show()"
      ]
    },
    {
      "cell_type": "code",
      "execution_count": 32,
      "metadata": {
        "colab": {
          "base_uri": "https://localhost:8080/",
          "height": 804
        },
        "id": "WNZKA1nIXk-B",
        "outputId": "7d6ac7b0-f593-4b6a-89bd-abb2ca4b0e87"
      },
      "outputs": [
        {
          "data": {
            "image/png": "[encoded data removed]",
            "text/plain": [
              "<Figure size 1600x1000 with 1 Axes>"
            ]
          },
          "metadata": {},
          "output_type": "display_data"
        }
      ],
      "source": [
        "plt.figure(figsize = (16, 10))\n",
        "\n",
        "sns.lineplot(x = 'year', y = 'val', hue = 'cause', data = percent_df[percent_df['metric'] == 'Percent'], errorbar=None, palette='colorblind')\n",
        "plt.xticks(range(1990, 2018, 3))\n",
        "\n",
        "plt.title('Distribution of mortality causes over time')\n",
        "plt.xlabel('Year')\n",
        "plt.ylabel('Mortality percentage')\n",
        "\n",
        "plt.legend(title = 'Cause', bbox_to_anchor = (1, 1), loc = 'upper left')\n",
        "\n",
        "plt.show()"
      ]
    },
    {
      "cell_type": "code",
      "execution_count": 34,
      "metadata": {
        "colab": {
          "base_uri": "https://localhost:8080/",
          "height": 871
        },
        "id": "qn4GQHtlXyrn",
        "outputId": "7770bbe6-c53f-4491-edca-ab3d3a972249"
      },
      "outputs": [
        {
          "data": {
            "image/png": "[encoded data removed]",
            "text/plain": [
              "<Figure size 1200x800 with 1 Axes>"
            ]
          },
          "metadata": {},
          "output_type": "display_data"
        }
      ],
      "source": [
        "plt.figure(figsize = (12, 8))\n",
        "\n",
        "top_causes = percent_df[percent_df['metric'] == 'Percent'].groupby('cause')['val'].mean().sort_values(ascending = False).head(5)\n",
        "top_causes.plot(kind = 'bar', color = 'green')\n",
        "\n",
        "plt.title('Top 5 most common causes of death')\n",
        "plt.xlabel('Cause')\n",
        "plt.ylabel('Average mortality percentage')\n",
        "\n",
        "plt.show()"
      ]
    },
    {
      "cell_type": "code",
      "execution_count": 35,
      "metadata": {
        "id": "nk5Ctp2onqLO"
      },
      "outputs": [],
      "source": [
        "from scipy.stats import linregress"
      ]
    },
    {
      "cell_type": "code",
      "execution_count": 36,
      "metadata": {
        "colab": {
          "base_uri": "https://localhost:8080/",
          "height": 1000
        },
        "id": "dzbWxfplYQPX",
        "outputId": "5a182e07-b366-4057-c6a1-157973222744"
      },
      "outputs": [
        {
          "ename": "TypeError",
          "evalue": "ufunc 'divide' not supported for the input types, and the inputs could not be safely coerced to any supported types according to the casting rule ''safe''",
          "output_type": "error",
          "traceback": [
            "\u001b[1;31m---------------------------------------------------------------------------\u001b[0m",
            "\u001b[1;31mTypeError\u001b[0m                                 Traceback (most recent call last)",
            "Cell \u001b[1;32mIn[36], line 7\u001b[0m\n\u001b[0;32m      4\u001b[0m region_df_rate \u001b[38;5;241m=\u001b[39m region_df[region_df[\u001b[38;5;124m'\u001b[39m\u001b[38;5;124mmetric\u001b[39m\u001b[38;5;124m'\u001b[39m] \u001b[38;5;241m==\u001b[39m \u001b[38;5;124m'\u001b[39m\u001b[38;5;124mRate\u001b[39m\u001b[38;5;124m'\u001b[39m]\n\u001b[0;32m      6\u001b[0m \u001b[38;5;28;01mfor\u001b[39;00m location, data \u001b[38;5;129;01min\u001b[39;00m region_df_rate\u001b[38;5;241m.\u001b[39mgroupby(\u001b[38;5;124m'\u001b[39m\u001b[38;5;124mlocation\u001b[39m\u001b[38;5;124m'\u001b[39m):\n\u001b[1;32m----> 7\u001b[0m     result \u001b[38;5;241m=\u001b[39m \u001b[43mlinregress\u001b[49m\u001b[43m(\u001b[49m\u001b[43mdata\u001b[49m\u001b[43m[\u001b[49m\u001b[38;5;124;43m'\u001b[39;49m\u001b[38;5;124;43myear\u001b[39;49m\u001b[38;5;124;43m'\u001b[39;49m\u001b[43m]\u001b[49m\u001b[43m,\u001b[49m\u001b[43m \u001b[49m\u001b[43mdata\u001b[49m\u001b[43m[\u001b[49m\u001b[38;5;124;43m'\u001b[39;49m\u001b[38;5;124;43mval\u001b[39;49m\u001b[38;5;124;43m'\u001b[39;49m\u001b[43m]\u001b[49m\u001b[43m)\u001b[49m\n\u001b[0;32m      8\u001b[0m     slope_data\u001b[38;5;241m.\u001b[39mappend({\u001b[38;5;124m'\u001b[39m\u001b[38;5;124mlocation\u001b[39m\u001b[38;5;124m'\u001b[39m: location, \u001b[38;5;124m'\u001b[39m\u001b[38;5;124mslope\u001b[39m\u001b[38;5;124m'\u001b[39m: result\u001b[38;5;241m.\u001b[39mslope})\n\u001b[0;32m     10\u001b[0m \u001b[38;5;66;03m# Crea un DataFrame con le pendenze\u001b[39;00m\n",
            "File \u001b[1;32mc:\\Users\\CarloGiacometti\\anaconda3\\lib\\site-packages\\scipy\\stats\\_stats_mstats_common.py:161\u001b[0m, in \u001b[0;36mlinregress\u001b[1;34m(x, y, alternative)\u001b[0m\n\u001b[0;32m    157\u001b[0m     \u001b[38;5;28;01mraise\u001b[39;00m \u001b[38;5;167;01mValueError\u001b[39;00m(\u001b[38;5;124m\"\u001b[39m\u001b[38;5;124mCannot calculate a linear regression \u001b[39m\u001b[38;5;124m\"\u001b[39m\n\u001b[0;32m    158\u001b[0m                      \u001b[38;5;124m\"\u001b[39m\u001b[38;5;124mif all x values are identical\u001b[39m\u001b[38;5;124m\"\u001b[39m)\n\u001b[0;32m    160\u001b[0m n \u001b[38;5;241m=\u001b[39m \u001b[38;5;28mlen\u001b[39m(x)\n\u001b[1;32m--> 161\u001b[0m xmean \u001b[38;5;241m=\u001b[39m \u001b[43mnp\u001b[49m\u001b[38;5;241;43m.\u001b[39;49m\u001b[43mmean\u001b[49m\u001b[43m(\u001b[49m\u001b[43mx\u001b[49m\u001b[43m,\u001b[49m\u001b[43m \u001b[49m\u001b[38;5;28;43;01mNone\u001b[39;49;00m\u001b[43m)\u001b[49m\n\u001b[0;32m    162\u001b[0m ymean \u001b[38;5;241m=\u001b[39m np\u001b[38;5;241m.\u001b[39mmean(y, \u001b[38;5;28;01mNone\u001b[39;00m)\n\u001b[0;32m    164\u001b[0m \u001b[38;5;66;03m# Average sums of square differences from the mean\u001b[39;00m\n\u001b[0;32m    165\u001b[0m \u001b[38;5;66;03m#   ssxm = mean( (x-mean(x))^2 )\u001b[39;00m\n\u001b[0;32m    166\u001b[0m \u001b[38;5;66;03m#   ssxym = mean( (x-mean(x)) * (y-mean(y)) )\u001b[39;00m\n",
            "File \u001b[1;32m<__array_function__ internals>:180\u001b[0m, in \u001b[0;36mmean\u001b[1;34m(*args, **kwargs)\u001b[0m\n",
            "File \u001b[1;32mc:\\Users\\CarloGiacometti\\anaconda3\\lib\\site-packages\\numpy\\core\\fromnumeric.py:3432\u001b[0m, in \u001b[0;36mmean\u001b[1;34m(a, axis, dtype, out, keepdims, where)\u001b[0m\n\u001b[0;32m   3429\u001b[0m     \u001b[38;5;28;01melse\u001b[39;00m:\n\u001b[0;32m   3430\u001b[0m         \u001b[38;5;28;01mreturn\u001b[39;00m mean(axis\u001b[38;5;241m=\u001b[39maxis, dtype\u001b[38;5;241m=\u001b[39mdtype, out\u001b[38;5;241m=\u001b[39mout, \u001b[38;5;241m*\u001b[39m\u001b[38;5;241m*\u001b[39mkwargs)\n\u001b[1;32m-> 3432\u001b[0m \u001b[38;5;28;01mreturn\u001b[39;00m _methods\u001b[38;5;241m.\u001b[39m_mean(a, axis\u001b[38;5;241m=\u001b[39maxis, dtype\u001b[38;5;241m=\u001b[39mdtype,\n\u001b[0;32m   3433\u001b[0m                       out\u001b[38;5;241m=\u001b[39mout, \u001b[38;5;241m*\u001b[39m\u001b[38;5;241m*\u001b[39mkwargs)\n",
            "File \u001b[1;32mc:\\Users\\CarloGiacometti\\anaconda3\\lib\\site-packages\\numpy\\core\\_methods.py:192\u001b[0m, in \u001b[0;36m_mean\u001b[1;34m(a, axis, dtype, out, keepdims, where)\u001b[0m\n\u001b[0;32m    190\u001b[0m         ret \u001b[38;5;241m=\u001b[39m ret\u001b[38;5;241m.\u001b[39mdtype\u001b[38;5;241m.\u001b[39mtype(ret \u001b[38;5;241m/\u001b[39m rcount)\n\u001b[0;32m    191\u001b[0m \u001b[38;5;28;01melse\u001b[39;00m:\n\u001b[1;32m--> 192\u001b[0m     ret \u001b[38;5;241m=\u001b[39m \u001b[43mret\u001b[49m\u001b[43m \u001b[49m\u001b[38;5;241;43m/\u001b[39;49m\u001b[43m \u001b[49m\u001b[43mrcount\u001b[49m\n\u001b[0;32m    194\u001b[0m \u001b[38;5;28;01mreturn\u001b[39;00m ret\n",
            "\u001b[1;31mTypeError\u001b[0m: ufunc 'divide' not supported for the input types, and the inputs could not be safely coerced to any supported types according to the casting rule ''safe''"
          ]
        }
      ],
      "source": [
        "# Calcola la pendenza per ciascuna località\n",
        "slope_data = []\n",
        "\n",
        "region_df_rate = region_df[region_df['metric'] == 'Rate']\n",
        "\n",
        "for location, data in region_df_rate.groupby('location'):\n",
        "    result = linregress(data['year'], data['val'])\n",
        "    slope_data.append({'location': location, 'slope': result.slope})\n",
        "\n",
        "# Crea un DataFrame con le pendenze\n",
        "slope_df = pd.DataFrame(slope_data)\n",
        "\n",
        "# Seleziona le top 3 località con la pendenza più alta\n",
        "top_locations_high_slope = slope_df.nlargest(3, 'slope')['location']\n",
        "\n",
        "# Seleziona le top 3 località con la pendenza più bassa\n",
        "top_locations_low_slope = slope_df.nsmallest(3, 'slope')['location']\n",
        "\n",
        "# Filtra il DataFrame originale per includere solo le top locations con la pendenza più alta\n",
        "df_filtered_high_slope = region_df_rate[region_df_rate['location'].isin(top_locations_high_slope)]\n",
        "\n",
        "\n",
        "# Crea il primo grafico con le top 3 località con la pendenza più alta\n",
        "plt.figure(figsize=(16, 7.5))\n",
        "\n",
        "sns.lineplot(x='year', y='val', hue='location', data=df_filtered_high_slope, palette='colorblind')\n",
        "plt.xticks(range(1990, 2018, 3))\n",
        "\n",
        "plt.title('Top 3 locations with Highest Slope')\n",
        "plt.xlabel('Year')\n",
        "plt.ylabel('Frerquency')\n",
        "\n",
        "plt.legend(title='Location', bbox_to_anchor=(1.05, 1), loc='upper left')\n",
        "\n",
        "plt.show()\n",
        "\n",
        "\n",
        "# Filtra il DataFrame originale per includere solo le top locations con la pendenza più bassa\n",
        "df_filtered_low_slope = region_df_rate[region_df_rate['location'].isin(top_locations_low_slope)]\n",
        "\n",
        "\n",
        "# Crea il secondo grafico con le top 3 località con la pendenza più bassa\n",
        "plt.figure(figsize=(16, 7.5))\n",
        "\n",
        "sns.lineplot(x='year', y='val', hue='location', data=df_filtered_low_slope, palette='colorblind')\n",
        "plt.xticks(range(1990, 2018, 3))\n",
        "\n",
        "plt.title('Top 3 locations with Lowest Slope')\n",
        "plt.xlabel('Year')\n",
        "plt.ylabel('Frerquency')\n",
        "\n",
        "plt.legend(title='Location', bbox_to_anchor=(1.05, 1), loc='upper left')\n",
        "\n",
        "plt.show()"
      ]
    },
    {
      "cell_type": "code",
      "execution_count": 37,
      "metadata": {
        "colab": {
          "base_uri": "https://localhost:8080/",
          "height": 1000
        },
        "id": "tIYgwwKKs2uI",
        "outputId": "23f4dc73-f872-4a07-e40f-ef9ab6461067"
      },
      "outputs": [
        {
          "ename": "KeyError",
          "evalue": "'location'",
          "output_type": "error",
          "traceback": [
            "\u001b[1;31m---------------------------------------------------------------------------\u001b[0m",
            "\u001b[1;31mKeyError\u001b[0m                                  Traceback (most recent call last)",
            "Cell \u001b[1;32mIn[37], line 6\u001b[0m\n\u001b[0;32m      2\u001b[0m slope_data \u001b[38;5;241m=\u001b[39m []\n\u001b[0;32m      4\u001b[0m nation_df_rate \u001b[38;5;241m=\u001b[39m nation_df[nation_df[\u001b[38;5;124m'\u001b[39m\u001b[38;5;124mmetric\u001b[39m\u001b[38;5;124m'\u001b[39m] \u001b[38;5;241m==\u001b[39m \u001b[38;5;124m'\u001b[39m\u001b[38;5;124mRate\u001b[39m\u001b[38;5;124m'\u001b[39m]\n\u001b[1;32m----> 6\u001b[0m \u001b[38;5;28;01mfor\u001b[39;00m location, data \u001b[38;5;129;01min\u001b[39;00m \u001b[43mnation_df_rate\u001b[49m\u001b[38;5;241;43m.\u001b[39;49m\u001b[43mgroupby\u001b[49m\u001b[43m(\u001b[49m\u001b[38;5;124;43m'\u001b[39;49m\u001b[38;5;124;43mlocation\u001b[39;49m\u001b[38;5;124;43m'\u001b[39;49m\u001b[43m)\u001b[49m:\n\u001b[0;32m      7\u001b[0m     result \u001b[38;5;241m=\u001b[39m linregress(data[\u001b[38;5;124m'\u001b[39m\u001b[38;5;124myear\u001b[39m\u001b[38;5;124m'\u001b[39m], data[\u001b[38;5;124m'\u001b[39m\u001b[38;5;124mval\u001b[39m\u001b[38;5;124m'\u001b[39m])\n\u001b[0;32m      8\u001b[0m     slope_data\u001b[38;5;241m.\u001b[39mappend({\u001b[38;5;124m'\u001b[39m\u001b[38;5;124mlocation\u001b[39m\u001b[38;5;124m'\u001b[39m: location, \u001b[38;5;124m'\u001b[39m\u001b[38;5;124mslope\u001b[39m\u001b[38;5;124m'\u001b[39m: result\u001b[38;5;241m.\u001b[39mslope})\n",
            "File \u001b[1;32mc:\\Users\\CarloGiacometti\\anaconda3\\lib\\site-packages\\pandas\\core\\frame.py:8402\u001b[0m, in \u001b[0;36mDataFrame.groupby\u001b[1;34m(self, by, axis, level, as_index, sort, group_keys, squeeze, observed, dropna)\u001b[0m\n\u001b[0;32m   8399\u001b[0m     \u001b[38;5;28;01mraise\u001b[39;00m \u001b[38;5;167;01mTypeError\u001b[39;00m(\u001b[38;5;124m\"\u001b[39m\u001b[38;5;124mYou have to supply one of \u001b[39m\u001b[38;5;124m'\u001b[39m\u001b[38;5;124mby\u001b[39m\u001b[38;5;124m'\u001b[39m\u001b[38;5;124m and \u001b[39m\u001b[38;5;124m'\u001b[39m\u001b[38;5;124mlevel\u001b[39m\u001b[38;5;124m'\u001b[39m\u001b[38;5;124m\"\u001b[39m)\n\u001b[0;32m   8400\u001b[0m axis \u001b[38;5;241m=\u001b[39m \u001b[38;5;28mself\u001b[39m\u001b[38;5;241m.\u001b[39m_get_axis_number(axis)\n\u001b[1;32m-> 8402\u001b[0m \u001b[38;5;28;01mreturn\u001b[39;00m \u001b[43mDataFrameGroupBy\u001b[49m\u001b[43m(\u001b[49m\n\u001b[0;32m   8403\u001b[0m \u001b[43m    \u001b[49m\u001b[43mobj\u001b[49m\u001b[38;5;241;43m=\u001b[39;49m\u001b[38;5;28;43mself\u001b[39;49m\u001b[43m,\u001b[49m\n\u001b[0;32m   8404\u001b[0m \u001b[43m    \u001b[49m\u001b[43mkeys\u001b[49m\u001b[38;5;241;43m=\u001b[39;49m\u001b[43mby\u001b[49m\u001b[43m,\u001b[49m\n\u001b[0;32m   8405\u001b[0m \u001b[43m    \u001b[49m\u001b[43maxis\u001b[49m\u001b[38;5;241;43m=\u001b[39;49m\u001b[43maxis\u001b[49m\u001b[43m,\u001b[49m\n\u001b[0;32m   8406\u001b[0m \u001b[43m    \u001b[49m\u001b[43mlevel\u001b[49m\u001b[38;5;241;43m=\u001b[39;49m\u001b[43mlevel\u001b[49m\u001b[43m,\u001b[49m\n\u001b[0;32m   8407\u001b[0m \u001b[43m    \u001b[49m\u001b[43mas_index\u001b[49m\u001b[38;5;241;43m=\u001b[39;49m\u001b[43mas_index\u001b[49m\u001b[43m,\u001b[49m\n\u001b[0;32m   8408\u001b[0m \u001b[43m    \u001b[49m\u001b[43msort\u001b[49m\u001b[38;5;241;43m=\u001b[39;49m\u001b[43msort\u001b[49m\u001b[43m,\u001b[49m\n\u001b[0;32m   8409\u001b[0m \u001b[43m    \u001b[49m\u001b[43mgroup_keys\u001b[49m\u001b[38;5;241;43m=\u001b[39;49m\u001b[43mgroup_keys\u001b[49m\u001b[43m,\u001b[49m\n\u001b[0;32m   8410\u001b[0m \u001b[43m    \u001b[49m\u001b[43msqueeze\u001b[49m\u001b[38;5;241;43m=\u001b[39;49m\u001b[43msqueeze\u001b[49m\u001b[43m,\u001b[49m\n\u001b[0;32m   8411\u001b[0m \u001b[43m    \u001b[49m\u001b[43mobserved\u001b[49m\u001b[38;5;241;43m=\u001b[39;49m\u001b[43mobserved\u001b[49m\u001b[43m,\u001b[49m\n\u001b[0;32m   8412\u001b[0m \u001b[43m    \u001b[49m\u001b[43mdropna\u001b[49m\u001b[38;5;241;43m=\u001b[39;49m\u001b[43mdropna\u001b[49m\u001b[43m,\u001b[49m\n\u001b[0;32m   8413\u001b[0m \u001b[43m\u001b[49m\u001b[43m)\u001b[49m\n",
            "File \u001b[1;32mc:\\Users\\CarloGiacometti\\anaconda3\\lib\\site-packages\\pandas\\core\\groupby\\groupby.py:965\u001b[0m, in \u001b[0;36mGroupBy.__init__\u001b[1;34m(self, obj, keys, axis, level, grouper, exclusions, selection, as_index, sort, group_keys, squeeze, observed, mutated, dropna)\u001b[0m\n\u001b[0;32m    962\u001b[0m \u001b[38;5;28;01mif\u001b[39;00m grouper \u001b[38;5;129;01mis\u001b[39;00m \u001b[38;5;28;01mNone\u001b[39;00m:\n\u001b[0;32m    963\u001b[0m     \u001b[38;5;28;01mfrom\u001b[39;00m \u001b[38;5;21;01mpandas\u001b[39;00m\u001b[38;5;21;01m.\u001b[39;00m\u001b[38;5;21;01mcore\u001b[39;00m\u001b[38;5;21;01m.\u001b[39;00m\u001b[38;5;21;01mgroupby\u001b[39;00m\u001b[38;5;21;01m.\u001b[39;00m\u001b[38;5;21;01mgrouper\u001b[39;00m \u001b[38;5;28;01mimport\u001b[39;00m get_grouper\n\u001b[1;32m--> 965\u001b[0m     grouper, exclusions, obj \u001b[38;5;241m=\u001b[39m \u001b[43mget_grouper\u001b[49m\u001b[43m(\u001b[49m\n\u001b[0;32m    966\u001b[0m \u001b[43m        \u001b[49m\u001b[43mobj\u001b[49m\u001b[43m,\u001b[49m\n\u001b[0;32m    967\u001b[0m \u001b[43m        \u001b[49m\u001b[43mkeys\u001b[49m\u001b[43m,\u001b[49m\n\u001b[0;32m    968\u001b[0m \u001b[43m        \u001b[49m\u001b[43maxis\u001b[49m\u001b[38;5;241;43m=\u001b[39;49m\u001b[43maxis\u001b[49m\u001b[43m,\u001b[49m\n\u001b[0;32m    969\u001b[0m \u001b[43m        \u001b[49m\u001b[43mlevel\u001b[49m\u001b[38;5;241;43m=\u001b[39;49m\u001b[43mlevel\u001b[49m\u001b[43m,\u001b[49m\n\u001b[0;32m    970\u001b[0m \u001b[43m        \u001b[49m\u001b[43msort\u001b[49m\u001b[38;5;241;43m=\u001b[39;49m\u001b[43msort\u001b[49m\u001b[43m,\u001b[49m\n\u001b[0;32m    971\u001b[0m \u001b[43m        \u001b[49m\u001b[43mobserved\u001b[49m\u001b[38;5;241;43m=\u001b[39;49m\u001b[43mobserved\u001b[49m\u001b[43m,\u001b[49m\n\u001b[0;32m    972\u001b[0m \u001b[43m        \u001b[49m\u001b[43mmutated\u001b[49m\u001b[38;5;241;43m=\u001b[39;49m\u001b[38;5;28;43mself\u001b[39;49m\u001b[38;5;241;43m.\u001b[39;49m\u001b[43mmutated\u001b[49m\u001b[43m,\u001b[49m\n\u001b[0;32m    973\u001b[0m \u001b[43m        \u001b[49m\u001b[43mdropna\u001b[49m\u001b[38;5;241;43m=\u001b[39;49m\u001b[38;5;28;43mself\u001b[39;49m\u001b[38;5;241;43m.\u001b[39;49m\u001b[43mdropna\u001b[49m\u001b[43m,\u001b[49m\n\u001b[0;32m    974\u001b[0m \u001b[43m    \u001b[49m\u001b[43m)\u001b[49m\n\u001b[0;32m    976\u001b[0m \u001b[38;5;28mself\u001b[39m\u001b[38;5;241m.\u001b[39mobj \u001b[38;5;241m=\u001b[39m obj\n\u001b[0;32m    977\u001b[0m \u001b[38;5;28mself\u001b[39m\u001b[38;5;241m.\u001b[39maxis \u001b[38;5;241m=\u001b[39m obj\u001b[38;5;241m.\u001b[39m_get_axis_number(axis)\n",
            "File \u001b[1;32mc:\\Users\\CarloGiacometti\\anaconda3\\lib\\site-packages\\pandas\\core\\groupby\\grouper.py:888\u001b[0m, in \u001b[0;36mget_grouper\u001b[1;34m(obj, key, axis, level, sort, observed, mutated, validate, dropna)\u001b[0m\n\u001b[0;32m    886\u001b[0m         in_axis, level, gpr \u001b[38;5;241m=\u001b[39m \u001b[38;5;28;01mFalse\u001b[39;00m, gpr, \u001b[38;5;28;01mNone\u001b[39;00m\n\u001b[0;32m    887\u001b[0m     \u001b[38;5;28;01melse\u001b[39;00m:\n\u001b[1;32m--> 888\u001b[0m         \u001b[38;5;28;01mraise\u001b[39;00m \u001b[38;5;167;01mKeyError\u001b[39;00m(gpr)\n\u001b[0;32m    889\u001b[0m \u001b[38;5;28;01melif\u001b[39;00m \u001b[38;5;28misinstance\u001b[39m(gpr, Grouper) \u001b[38;5;129;01mand\u001b[39;00m gpr\u001b[38;5;241m.\u001b[39mkey \u001b[38;5;129;01mis\u001b[39;00m \u001b[38;5;129;01mnot\u001b[39;00m \u001b[38;5;28;01mNone\u001b[39;00m:\n\u001b[0;32m    890\u001b[0m     \u001b[38;5;66;03m# Add key to exclusions\u001b[39;00m\n\u001b[0;32m    891\u001b[0m     exclusions\u001b[38;5;241m.\u001b[39madd(gpr\u001b[38;5;241m.\u001b[39mkey)\n",
            "\u001b[1;31mKeyError\u001b[0m: 'location'"
          ]
        }
      ],
      "source": [
        "# Calcola la pendenza per ciascuna località\n",
        "slope_data = []\n",
        "\n",
        "nation_df_rate = nation_df[nation_df['metric'] == 'Rate']\n",
        "\n",
        "for location, data in nation_df_rate.groupby('location'):\n",
        "    result = linregress(data['year'], data['val'])\n",
        "    slope_data.append({'location': location, 'slope': result.slope})\n",
        "\n",
        "# Crea un DataFrame con le pendenze\n",
        "slope_df = pd.DataFrame(slope_data)\n",
        "\n",
        "# Seleziona le top 3 località con la pendenza più alta\n",
        "top_locations_high_slope = slope_df.nlargest(3, 'slope')['location']\n",
        "\n",
        "# Seleziona le top 3 località con la pendenza più bassa\n",
        "top_locations_low_slope = slope_df.nsmallest(3, 'slope')['location']\n",
        "\n",
        "# Filtra il DataFrame originale per includere solo le top locations con la pendenza più alta\n",
        "df_filtered_high_slope = nation_df_rate[nation_df_rate['location'].isin(top_locations_high_slope)]\n",
        "\n",
        "\n",
        "# Crea il primo grafico con le top 3 località con la pendenza più alta\n",
        "plt.figure(figsize=(16, 7.5))\n",
        "\n",
        "sns.lineplot(x='year', y='val', hue='location', data=df_filtered_high_slope, palette='colorblind')\n",
        "plt.xticks(range(1990, 2018, 3))\n",
        "\n",
        "plt.title('Top 3 Nations with Highest Slope')\n",
        "plt.xlabel('Year')\n",
        "plt.ylabel('Frerquency')\n",
        "\n",
        "plt.legend(title='Location', bbox_to_anchor=(1.05, 1), loc='upper left')\n",
        "\n",
        "plt.show()\n",
        "\n",
        "\n",
        "# Filtra il DataFrame originale per includere solo le top locations con la pendenza più bassa\n",
        "df_filtered_low_slope = nation_df_rate[nation_df_rate['location'].isin(top_locations_low_slope)]\n",
        "\n",
        "\n",
        "# Crea il secondo grafico con le top 3 località con la pendenza più bassa\n",
        "plt.figure(figsize=(16, 7.5))\n",
        "\n",
        "sns.lineplot(x='year', y='val', hue='location', data=df_filtered_low_slope, palette='colorblind')\n",
        "plt.xticks(range(1990, 2018, 3))\n",
        "\n",
        "plt.title('Top 3 Nations with Lowest Slope')\n",
        "plt.xlabel('Year')\n",
        "plt.ylabel('Frerquency')\n",
        "\n",
        "plt.legend(title='Location', bbox_to_anchor=(1.05, 1), loc='upper left')\n",
        "\n",
        "plt.show()"
      ]
    }
  ],
  "metadata": {
    "colab": {
      "collapsed_sections": [
        "kFKSDRl95R-G",
        "BF3OhKBQ5OGP"
      ],
      "provenance": []
    },
    "kernelspec": {
      "display_name": "Python 3",
      "name": "python3"
    },
    "language_info": {
      "codemirror_mode": {
        "name": "ipython",
        "version": 3
      },
      "file_extension": ".py",
      "mimetype": "text/x-python",
      "name": "python",
      "nbconvert_exporter": "python",
      "pygments_lexer": "ipython3",
      "version": "3.10.9"
    }
  },
  "nbformat": 4,
  "nbformat_minor": 0
}
