{
 "cells": [
  {
   "cell_type": "code",
   "execution_count": 19,
   "metadata": {},
   "outputs": [],
   "source": [
    "import pandas as pd\n",
    "import pyodbc\n",
    "\n",
    "# df creation\n",
    "file_path = r\"C:\\Users\\DanielBollati\\OneDrive - ITS Incom\\Desktop\\SECONDO ANNO ITS\\PW5\\ITSINCOM_Big_Data_PW2G2\\IHME_GBD_2019_SDI_1990_2019_Y2020M10D15 1 - Copy.XLSX\"\n",
    "df = pd.read_excel(file_path)\n",
    "\n",
    "# connection\n",
    "server = 'pw2-g2-y2-sqlserver.database.windows.net'\n",
    "database = 'BC_Data'\n",
    "username = 'group2_admin_pw2'\n",
    "password = 'AlfaBravo2'\n",
    "driver = '{ODBC Driver 17 for SQL Server}'\n",
    "connection_string = f\"DRIVER={driver};SERVER={server};DATABASE={database};UID={username};PWD={password}\"\n",
    "\n",
    "conn = pyodbc.connect(connection_string)# Create a connection to the SQL Server\n",
    "cursor = conn.cursor()\n",
    "\n",
    "# table name\n",
    "table_name = '[stg].[region_sdi_total]'\n",
    "\n",
    "\n",
    "# Query ensemble\n",
    "columns = ', '.join(['[' + col + ']' for col in df.columns])\n",
    "placeholders = ', '.join('?' * len(df.columns))\n",
    "query = f\"INSERT INTO {table_name} ({columns}) VALUES ({placeholders})\"\n",
    "\n",
    "# Insert into table\n",
    "for index, row in df.iterrows():# Insert the DataFrame into the SQL table\n",
    "    row_values = tuple(row)\n",
    "    cursor.execute(query, row_values)\n",
    "\n",
    "\n",
    "\n",
    "\n",
    "conn.commit()\n",
    "conn.close()"
   ]
  },
  {
   "cell_type": "code",
   "execution_count": 13,
   "metadata": {},
   "outputs": [
    {
     "name": "stdout",
     "output_type": "stream",
     "text": [
      "Index(['Location', '1990', '1991', '1992', '1993', '1994', '1995', '1996',\n",
      "       '1997', '1998', '1999', '2000', '2001', '2002', '2003', '2004', '2005',\n",
      "       '2006', '2007', '2008', '2009', '2010', '2011', '2012', '2013', '2014',\n",
      "       '2015', '2016', '2017', '2018', '2019'],\n",
      "      dtype='object')\n"
     ]
    }
   ],
   "source": [
    "print (df.columns)"
   ]
  }
 ],
 "metadata": {
  "kernelspec": {
   "display_name": "Python 3",
   "language": "python",
   "name": "python3"
  },
  "language_info": {
   "codemirror_mode": {
    "name": "ipython",
    "version": 3
   },
   "file_extension": ".py",
   "mimetype": "text/x-python",
   "name": "python",
   "nbconvert_exporter": "python",
   "pygments_lexer": "ipython3",
   "version": "3.12.0"
  }
 },
 "nbformat": 4,
 "nbformat_minor": 2
}
