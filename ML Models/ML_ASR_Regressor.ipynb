{
 "cells": [
  {
   "cell_type": "markdown",
   "metadata": {},
   "source": [
    "## Description\n",
    "Our group has developed a regressor that predicts the ASR given certain values, here is a sample of the table used for said prediction:\n",
    "|cluster_sdi|country|year|risk|ASR|SDI|\n",
    "|---|---|---|---|---|---|\n",
    "|Low|Bolivia|2019|Metabolic risks|1.2053777|0.566|\n",
    "|Low-middle|American Samoa|2007|Dietary risks|0.4175736|0.667|\n",
    "|Low|India|2018|Metabolic risks|0.668715|0.558|\n",
    "|Middle|Georgia|2005|Tobacco|0.7310083|0.646|\n",
    "|Low|Guatemala|2018|Low physical activit|0.0223396|0.522|\n",
    "|High|Denmark|2016|Tobacco|1.2097754|0.884|\n",
    "|Low|Belize|2002|Low physical activit|0.118005|0.515|\n",
    "|Low|Guinea-Bissau|2000|Alcohol use|0.495362|0.249|\n",
    "|Low-middle|Moldova|2018|Alcohol use|1.0012355|0.693|\n",
    "|Low|Bolivia|1995|Tobacco|0.2720063|0.441|\n",
    "\n",
    "Azure AI proposed a `VotingEnsemble` made of 3 models:\n",
    "1. `XGBoostRegressor` with data scaled with `StandardScalerWrapper`\n",
    "2. `XGBoostRegressor` with data scaled with[`MaxAbsScaler`](https://scikit-learn.org/stable/modules/generated/sklearn.preprocessing.MaxAbsScaler.html#sklearn.preprocessing.MaxAbsScaler) substituted with [`GradientBoostingRegressor`](https://scikit-learn.org/stable/modules/generated/sklearn.ensemble.GradientBoostingRegressor.html#sklearn.ensemble.GradientBoostingRegressor)**\n",
    "3. `LightGBM` with data scaled with [`MaxAbsScaler`](https://scikit-learn.org/stable/modules/generated/sklearn.preprocessing.MaxAbsScaler.html#sklearn.preprocessing.MaxAbsScaler) (substituted with [`HistGradientBoostingRegressor`](https://scikit-learn.org/stable/modules/generated/sklearn.ensemble.HistGradientBoostingRegressor.html))\n",
    "\n",
    "Given the impossibility of feeding the model data scaled in 2 different ways, model 1 was removed, the remainging models gave reached the following performance\n",
    "\n",
    "||HistGradientBoostingRegressor|GradientBoostingRegressor|VotingEnsemble|\n",
    "|-|-|-|-|\n",
    "|R2|0.844|0.500|0.734|\n",
    "\n",
    "Given the differnce in the output's quality, to execute the effective previsions will be used only the [`HistGradientBoostingRegressor`](https://scikit-learn.org/stable/modules/generated/sklearn.ensemble.HistGradientBoostingRegressor.html) regression model."
   ]
  },
  {
   "cell_type": "markdown",
   "metadata": {},
   "source": [
    "## Libraries"
   ]
  },
  {
   "cell_type": "markdown",
   "metadata": {},
   "source": [
    "### ETL"
   ]
  },
  {
   "cell_type": "code",
   "execution_count": 1,
   "metadata": {},
   "outputs": [],
   "source": [
    "import pyodbc as db\n",
    "import pandas as pd"
   ]
  },
  {
   "cell_type": "markdown",
   "metadata": {},
   "source": [
    "### ML"
   ]
  },
  {
   "cell_type": "markdown",
   "metadata": {},
   "source": [
    "#### Scalers"
   ]
  },
  {
   "cell_type": "code",
   "execution_count": 2,
   "metadata": {},
   "outputs": [],
   "source": [
    "# SCALER\n",
    "\n",
    "from sklearn.preprocessing import MaxAbsScaler as MAScl"
   ]
  },
  {
   "cell_type": "markdown",
   "metadata": {},
   "source": [
    "#### Models"
   ]
  },
  {
   "cell_type": "code",
   "execution_count": 3,
   "metadata": {},
   "outputs": [],
   "source": [
    "from sklearn.ensemble import VotingRegressor\n",
    "\n",
    "from sklearn.ensemble import HistGradientBoostingRegressor as hgbr\n",
    "from sklearn.ensemble import GradientBoostingRegressor as gbr"
   ]
  },
  {
   "cell_type": "markdown",
   "metadata": {},
   "source": [
    "#### Metrics"
   ]
  },
  {
   "cell_type": "code",
   "execution_count": 4,
   "metadata": {},
   "outputs": [],
   "source": [
    "from sklearn.metrics import mean_absolute_error, mean_squared_error, r2_score"
   ]
  },
  {
   "cell_type": "markdown",
   "metadata": {},
   "source": [
    "#### Outputs"
   ]
  },
  {
   "cell_type": "code",
   "execution_count": 5,
   "metadata": {},
   "outputs": [],
   "source": [
    "import matplotlib.pyplot as plt\n",
    "import pickle\n",
    "import json"
   ]
  },
  {
   "cell_type": "markdown",
   "metadata": {},
   "source": [
    "## ETL"
   ]
  },
  {
   "cell_type": "code",
   "execution_count": 6,
   "metadata": {},
   "outputs": [],
   "source": [
    "SERVER = 'pw2-g2-y2-sqlserver.database.windows.net'\n",
    "DATABASE = 'BC_Data'\n",
    "USERNAME = 'group2_admin_pw2'\n",
    "PASSWORD = 'AlfaBravo2'\n",
    "connectionString = f'DRIVER={{SQL Server}};SERVER={SERVER};DATABASE={DATABASE};UID={USERNAME};PWD={PASSWORD}'"
   ]
  },
  {
   "cell_type": "code",
   "execution_count": 7,
   "metadata": {},
   "outputs": [],
   "source": [
    "conn = db.connect(connectionString) # DB connection"
   ]
  },
  {
   "cell_type": "code",
   "execution_count": 8,
   "metadata": {},
   "outputs": [
    {
     "name": "stderr",
     "output_type": "stream",
     "text": [
      "C:\\Users\\ArieleBernasconi\\AppData\\Local\\Temp\\ipykernel_27776\\2570102168.py:5: UserWarning: pandas only supports SQLAlchemy connectable (engine/connection) or database string URI or sqlite3 DBAPI2 connection. Other DBAPI2 objects are not tested. Please consider using SQLAlchemy.\n",
      "  df_train =pd.read_sql(query_train_data,conn)\n",
      "C:\\Users\\ArieleBernasconi\\AppData\\Local\\Temp\\ipykernel_27776\\2570102168.py:6: UserWarning: pandas only supports SQLAlchemy connectable (engine/connection) or database string URI or sqlite3 DBAPI2 connection. Other DBAPI2 objects are not tested. Please consider using SQLAlchemy.\n",
      "  df_test =pd.read_sql(query_test_data,conn)\n"
     ]
    }
   ],
   "source": [
    "# Queries\n",
    "query_train_data = \"SELECT * FROM ml.sdicluster_country_risk_asr_sdi WHERE year<2014 ORDER BY year\"\n",
    "query_test_data = \"SELECT * FROM ml.sdicluster_country_risk_asr_sdi WHERE year>2013 ORDER BY year\"\n",
    "# Dtaframes\n",
    "df_train =pd.read_sql(query_train_data,conn)\n",
    "df_test =pd.read_sql(query_test_data,conn)"
   ]
  },
  {
   "cell_type": "markdown",
   "metadata": {},
   "source": [
    "## Data Cleaning & Preparation"
   ]
  },
  {
   "cell_type": "markdown",
   "metadata": {},
   "source": [
    "### Replacing categories:\n",
    "- Country\n",
    "- Risk\n",
    "- SDI cluster"
   ]
  },
  {
   "cell_type": "markdown",
   "metadata": {},
   "source": [
    "#### Countries"
   ]
  },
  {
   "cell_type": "code",
   "execution_count": 9,
   "metadata": {},
   "outputs": [],
   "source": [
    "\n",
    "# Dictionary containing nation-continent pairs, the continent is replaced with a number\n",
    "nations = { #\n",
    "    \"Lao People's Democratic Republic\": \"Asia\",\n",
    "    \"Saint Kitts and Nevis\": \"North America\",\n",
    "    \"Puerto Rico\": \"North America\",\n",
    "    \"Antigua and Barbuda\": \"North America\",\n",
    "    \"Finland\": \"Europe\",\n",
    "    \"Sao Tome and Principe\": \"Africa\",\n",
    "    \"Republic of Korea\": \"Asia\",\n",
    "    \"Rwanda\": \"Africa\",\n",
    "    \"Bahrain\": \"Asia\",\n",
    "    \"Eswatini\": \"Africa\",\n",
    "    \"Northern Mariana Islands\": \"Oceania\",\n",
    "    \"Gambia\": \"Africa\",\n",
    "    \"Liberia\": \"Africa\",\n",
    "    \"Guatemala\": \"North America\",\n",
    "    \"Andorra\": \"Europe\",\n",
    "    \"New Zealand\": \"Oceania\",\n",
    "    \"Cape Verde\": \"Africa\",\n",
    "    \"Angola\": \"Africa\",\n",
    "    \"Nauru\": \"Oceania\",\n",
    "    \"Uganda\": \"Africa\",\n",
    "    \"Monaco\": \"Europe\",\n",
    "    \"Egypt\": \"Africa\",\n",
    "    \"Kyrgyzstan\": \"Asia\",\n",
    "    \"Mali\": \"Africa\",\n",
    "    \"Azerbaijan\": \"Asia\",\n",
    "    \"Italy\": \"Europe\",\n",
    "    \"Brazil\": \"South America\",\n",
    "    \"Bermuda\": \"North America\",\n",
    "    \"Guinea-Bissau\": \"Africa\",\n",
    "    \"Palau\": \"Oceania\",\n",
    "    \"Netherlands\": \"Europe\",\n",
    "    \"Namibia\": \"Africa\",\n",
    "    \"USA\": \"North America\",\n",
    "    \"Greenland\": \"North America\",\n",
    "    \"Cameroon\": \"Africa\",\n",
    "    \"Jordan\": \"Asia\",\n",
    "    \"Madagascar\": \"Africa\",\n",
    "    \"Belarus\": \"Europe\",\n",
    "    \"Marshall Islands\": \"Oceania\",\n",
    "    \"Bolivia\": \"South America\",\n",
    "    \"Malaysia\": \"Asia\",\n",
    "    \"San Marino\": \"Europe\",\n",
    "    \"Sri Lanka\": \"Asia\",\n",
    "    \"Indonesia\": \"Asia\",\n",
    "    \"Jamaica\": \"North America\",\n",
    "    \"Democratic People's Republic of Korea\": \"Asia\",\n",
    "    \"Côte d'Ivoire\": \"Africa\",\n",
    "    \"Uzbekistan\": \"Asia\",\n",
    "    \"Germany\": \"Europe\",\n",
    "    \"Philippines\": \"Asia\",\n",
    "    \"Cuba\": \"North America\",\n",
    "    \"Lithuania\": \"Europe\",\n",
    "    \"Iceland\": \"Europe\",\n",
    "    \"Senegal\": \"Africa\",\n",
    "    \"Virgin Islands\": \"North America\",\n",
    "    \"Barbados\": \"North America\",\n",
    "    \"Kuwait\": \"Asia\",\n",
    "    \"Cyprus\": \"Europe\",\n",
    "    \"Hungary\": \"Europe\",\n",
    "    \"Malawi\": \"Africa\",\n",
    "    \"Switzerland\": \"Europe\",\n",
    "    \"Estonia\": \"Europe\",\n",
    "    \"Palestine\": \"Asia\",\n",
    "    \"Algeria\": \"Africa\",\n",
    "    \"Comoros\": \"Africa\",\n",
    "    \"Ecuador\": \"South America\",\n",
    "    \"Nigeria\": \"Africa\",\n",
    "    \"Samoa\": \"Oceania\",\n",
    "    \"El Salvador\": \"North America\",\n",
    "    \"North Macedonia\": \"Europe\",\n",
    "    \"Malta\": \"Europe\",\n",
    "    \"Mongolia\": \"Asia\",\n",
    "    \"The Bahamas\": \"North America\",\n",
    "    \"Bosnia and Herzegovina\": \"Europe\",\n",
    "    \"Lebanon\": \"Asia\",\n",
    "    \"Montenegro\": \"Europe\",\n",
    "    \"Ethiopia\": \"Africa\",\n",
    "    \"Saudi Arabia\": \"Asia\",\n",
    "    \"Iraq\": \"Asia\",\n",
    "    \"American Samoa\": \"Oceania\",\n",
    "    \"Chad\": \"Africa\",\n",
    "    \"Australia\": \"Oceania\",\n",
    "    \"Mauritius\": \"Africa\",\n",
    "    \"Belize\": \"North America\",\n",
    "    \"UK\": \"Europe\",\n",
    "    \"Mexico\": \"North America\",\n",
    "    \"Albania\": \"Europe\",\n",
    "    \"Myanmar\": \"Asia\",\n",
    "    \"Sierra Leone\": \"Africa\",\n",
    "    \"Sweden\": \"Europe\",\n",
    "    \"Viet Nam\": \"Asia\",\n",
    "    \"Honduras\": \"North America\",\n",
    "    \"Kenya\": \"Africa\",\n",
    "    \"Nicaragua\": \"North America\",\n",
    "    \"Ukraine\": \"Europe\",\n",
    "    \"Trinidad and Tobago\": \"North America\",\n",
    "    \"Syria\": \"Asia\",\n",
    "    \"China\": \"Asia\",\n",
    "    \"Argentina\": \"South America\",\n",
    "    \"Brunei\": \"Asia\",\n",
    "    \"Fiji\": \"Oceania\",\n",
    "    \"Solomon Islands\": \"Oceania\",\n",
    "    \"Armenia\": \"Asia\",\n",
    "    \"Kiribati\": \"Oceania\",\n",
    "    \"Serbia\": \"Europe\",\n",
    "    \"Peru\": \"South America\",\n",
    "    \"Tanzania\": \"Africa\",\n",
    "    \"Democratic Republic of the Congo\": \"Africa\",\n",
    "    \"Czech Republic\": \"Europe\",\n",
    "    \"Libya\": \"Africa\",\n",
    "    \"Burkina Faso\": \"Africa\",\n",
    "    \"India\": \"Asia\",\n",
    "    \"Maldives\": \"Asia\",\n",
    "    \"Croatia\": \"Europe\",\n",
    "    \"Tuvalu\": \"Oceania\",\n",
    "    \"Austria\": \"Europe\",\n",
    "    \"Botswana\": \"Africa\",\n",
    "    \"Dominica\": \"North America\",\n",
    "    \"Greece\": \"Europe\",\n",
    "    \"Timor-Leste\": \"Asia\",\n",
    "    \"United Arab Emirates\": \"Asia\",\n",
    "    \"Equatorial Guinea\": \"Africa\",\n",
    "    \"Israel\": \"Asia\",\n",
    "    \"Qatar\": \"Asia\",\n",
    "    \"Uruguay\": \"South America\",\n",
    "    \"Zimbabwe\": \"Africa\",\n",
    "    \"Tonga\": \"Oceania\",\n",
    "    \"Tokelau\": \"Oceania\",\n",
    "    \"Poland\": \"Europe\",\n",
    "    \"Suriname\": \"South America\",\n",
    "    \"Canada\": \"North America\",\n",
    "    \"Bulgaria\": \"Europe\",\n",
    "    \"Afghanistan\": \"Asia\",\n",
    "    \"Central African Republic\": \"Africa\",\n",
    "    \"Togo\": \"Africa\",\n",
    "    \"Burundi\": \"Africa\",\n",
    "    \"Moldova\": \"Europe\",\n",
    "    \"Saint Vincent and the Grenadines\": \"North America\",\n",
    "    \"Sudan\": \"Africa\",\n",
    "    \"Slovenia\": \"Europe\",\n",
    "    \"Guyana\": \"South America\",\n",
    "    \"South Sudan\": \"Africa\",\n",
    "    \"Haiti\": \"North America\",\n",
    "    \"Tunisia\": \"Africa\",\n",
    "    \"Ireland\": \"Europe\",\n",
    "    \"Latvia\": \"Europe\",\n",
    "    \"Niue\": \"Oceania\",\n",
    "    \"Slovakia\": \"Europe\",\n",
    "    \"Mozambique\": \"Africa\",\n",
    "    \"Gabon\": \"Africa\",\n",
    "    \"Somalia\": \"Africa\",\n",
    "    \"Guinea\": \"Africa\",\n",
    "    \"Thailand\": \"Asia\",\n",
    "    \"Norway\": \"Europe\",\n",
    "    \"France\": \"Europe\",\n",
    "    \"Grenada\": \"North America\",\n",
    "    \"Benin\": \"Africa\",\n",
    "    \"Dominican Republic\": \"North America\",\n",
    "    \"Luxembourg\": \"Europe\",\n",
    "    \"Belgium\": \"Europe\",\n",
    "    \"Japan\": \"Asia\",\n",
    "    \"Bhutan\": \"Asia\",\n",
    "    \"Turkmenistan\": \"Asia\",\n",
    "    \"Morocco\": \"Africa\",\n",
    "    \"Tajikistan\": \"Asia\",\n",
    "    \"Georgia\": \"Asia\",\n",
    "    \"Yemen\": \"Asia\",\n",
    "    \"Spain\": \"Europe\",\n",
    "    \"Oman\": \"Asia\",\n",
    "    \"Saint Lucia\": \"North America\",\n",
    "    \"Papua New Guinea\": \"Oceania\",\n",
    "    \"Turkey\": \"Asia\",\n",
    "    \"Cook Islands\": \"Oceania\",\n",
    "    \"Eritrea\": \"Africa\",\n",
    "    \"Venezuela\": \"South America\",\n",
    "    \"Bangladesh\": \"Asia\",\n",
    "    \"DR Congo\": \"Africa\",\n",
    "    \"Congo \": \"Africa\",\n",
    "    \"Ghana\": \"Africa\",\n",
    "    \"Romania\": \"Europe\",\n",
    "    \"Pakistan\": \"Asia\",\n",
    "    \"Denmark\": \"Europe\",\n",
    "    \"Singapore\": \"Asia\",\n",
    "    \"Lesotho\": \"Africa\",\n",
    "    \"Colombia\": \"South America\",\n",
    "    \"Panama\": \"North America\",\n",
    "    \"Cambodia\": \"Asia\",\n",
    "    \"Seychelles\": \"Africa\",\n",
    "    \"Mauritania\": \"Africa\",\n",
    "    \"Niger\": \"Africa\",\n",
    "    \"Iran\": \"Asia\",\n",
    "    \"Chile\": \"South America\",\n",
    "    \"Nepal\": \"Asia\",\n",
    "    \"Russia\": \"Europe\",\n",
    "    \"South Africa\": \"Africa\",\n",
    "    \"Djibouti\": \"Africa\",\n",
    "    \"Zambia\": \"Africa\",\n",
    "    \"Portugal\": \"Europe\",\n",
    "    \"Taiwan \": \"Asia\",\n",
    "    \"Guam\": \"Oceania\",\n",
    "    \"Kazakhstan\": \"Asia\",\n",
    "    \"Federated States of Micronesia\": \"Oceania\",\n",
    "    \"Costa Rica\": \"North America\",\n",
    "    \"Paraguay\": \"South America\",\n",
    "    \"Vanuatu\": \"Oceania\",\n",
    "    \"Laos\":\"Asia\",\n",
    "    \"South Korea\":\"Asia\",\n",
    "    \"North Korea\":\"Asia\",\n",
    "    \"Vietnam\":\"Asia\",\n",
    "    \"São Tomé and PrÍncipe\":\"Africa\",\n",
    "}\n",
    "nation_mapping = {nation: idx for idx, nation in enumerate(nations.keys(), start=1)}\n",
    "\n",
    "df_train['country'].replace(nation_mapping, inplace=True)\n",
    "df_test['country'].replace(nation_mapping, inplace=True)"
   ]
  },
  {
   "cell_type": "markdown",
   "metadata": {},
   "source": [
    "#### Risks"
   ]
  },
  {
   "cell_type": "code",
   "execution_count": 10,
   "metadata": {},
   "outputs": [
    {
     "data": {
      "text/html": [
       "<div>\n",
       "<style scoped>\n",
       "    .dataframe tbody tr th:only-of-type {\n",
       "        vertical-align: middle;\n",
       "    }\n",
       "\n",
       "    .dataframe tbody tr th {\n",
       "        vertical-align: top;\n",
       "    }\n",
       "\n",
       "    .dataframe thead th {\n",
       "        text-align: right;\n",
       "    }\n",
       "</style>\n",
       "<table border=\"1\" class=\"dataframe\">\n",
       "  <thead>\n",
       "    <tr style=\"text-align: right;\">\n",
       "      <th></th>\n",
       "      <th>cluster_sdi</th>\n",
       "      <th>country</th>\n",
       "      <th>year</th>\n",
       "      <th>risk</th>\n",
       "      <th>ASR</th>\n",
       "      <th>SDI</th>\n",
       "    </tr>\n",
       "  </thead>\n",
       "  <tbody>\n",
       "    <tr>\n",
       "      <th>0</th>\n",
       "      <td>Low</td>\n",
       "      <td>98</td>\n",
       "      <td>1990</td>\n",
       "      <td>5</td>\n",
       "      <td>0.245127</td>\n",
       "      <td>0.433</td>\n",
       "    </tr>\n",
       "    <tr>\n",
       "      <th>1</th>\n",
       "      <td>Low</td>\n",
       "      <td>98</td>\n",
       "      <td>1990</td>\n",
       "      <td>4</td>\n",
       "      <td>0.102353</td>\n",
       "      <td>0.433</td>\n",
       "    </tr>\n",
       "    <tr>\n",
       "      <th>2</th>\n",
       "      <td>Low</td>\n",
       "      <td>98</td>\n",
       "      <td>1990</td>\n",
       "      <td>3</td>\n",
       "      <td>0.484631</td>\n",
       "      <td>0.433</td>\n",
       "    </tr>\n",
       "    <tr>\n",
       "      <th>3</th>\n",
       "      <td>Low</td>\n",
       "      <td>98</td>\n",
       "      <td>1990</td>\n",
       "      <td>1</td>\n",
       "      <td>0.144456</td>\n",
       "      <td>0.433</td>\n",
       "    </tr>\n",
       "    <tr>\n",
       "      <th>4</th>\n",
       "      <td>Low</td>\n",
       "      <td>98</td>\n",
       "      <td>1990</td>\n",
       "      <td>2</td>\n",
       "      <td>0.045454</td>\n",
       "      <td>0.433</td>\n",
       "    </tr>\n",
       "    <tr>\n",
       "      <th>...</th>\n",
       "      <td>...</td>\n",
       "      <td>...</td>\n",
       "      <td>...</td>\n",
       "      <td>...</td>\n",
       "      <td>...</td>\n",
       "      <td>...</td>\n",
       "    </tr>\n",
       "    <tr>\n",
       "      <th>23755</th>\n",
       "      <td>Low</td>\n",
       "      <td>205</td>\n",
       "      <td>2013</td>\n",
       "      <td>5</td>\n",
       "      <td>0.525811</td>\n",
       "      <td>0.460</td>\n",
       "    </tr>\n",
       "    <tr>\n",
       "      <th>23756</th>\n",
       "      <td>Low</td>\n",
       "      <td>205</td>\n",
       "      <td>2013</td>\n",
       "      <td>4</td>\n",
       "      <td>0.047111</td>\n",
       "      <td>0.460</td>\n",
       "    </tr>\n",
       "    <tr>\n",
       "      <th>23757</th>\n",
       "      <td>Low</td>\n",
       "      <td>205</td>\n",
       "      <td>2013</td>\n",
       "      <td>3</td>\n",
       "      <td>3.085332</td>\n",
       "      <td>0.460</td>\n",
       "    </tr>\n",
       "    <tr>\n",
       "      <th>23758</th>\n",
       "      <td>Low</td>\n",
       "      <td>205</td>\n",
       "      <td>2013</td>\n",
       "      <td>1</td>\n",
       "      <td>0.434078</td>\n",
       "      <td>0.460</td>\n",
       "    </tr>\n",
       "    <tr>\n",
       "      <th>23759</th>\n",
       "      <td>Low</td>\n",
       "      <td>205</td>\n",
       "      <td>2013</td>\n",
       "      <td>2</td>\n",
       "      <td>0.128322</td>\n",
       "      <td>0.460</td>\n",
       "    </tr>\n",
       "  </tbody>\n",
       "</table>\n",
       "<p>23760 rows × 6 columns</p>\n",
       "</div>"
      ],
      "text/plain": [
       "      cluster_sdi  country  year  risk       ASR    SDI\n",
       "0             Low       98  1990     5  0.245127  0.433\n",
       "1             Low       98  1990     4  0.102353  0.433\n",
       "2             Low       98  1990     3  0.484631  0.433\n",
       "3             Low       98  1990     1  0.144456  0.433\n",
       "4             Low       98  1990     2  0.045454  0.433\n",
       "...           ...      ...   ...   ...       ...    ...\n",
       "23755         Low      205  2013     5  0.525811  0.460\n",
       "23756         Low      205  2013     4  0.047111  0.460\n",
       "23757         Low      205  2013     3  3.085332  0.460\n",
       "23758         Low      205  2013     1  0.434078  0.460\n",
       "23759         Low      205  2013     2  0.128322  0.460\n",
       "\n",
       "[23760 rows x 6 columns]"
      ]
     },
     "execution_count": 10,
     "metadata": {},
     "output_type": "execute_result"
    }
   ],
   "source": [
    "# Dictionary containing risk-id pairs\n",
    "risks_mapping = {\n",
    "    \"Dietary risks\" : 1\n",
    "    ,\"Low physical activity\":2\n",
    "    ,\"Metabolic risks\":3\n",
    "    ,\"Alcohol use\": 4\n",
    "    ,\"Tobacco\":5\n",
    "}\n",
    "\n",
    "df_train['risk'].replace(risks_mapping, inplace=True)\n",
    "df_test['risk'].replace(risks_mapping, inplace=True)\n",
    "df_train\n"
   ]
  },
  {
   "cell_type": "markdown",
   "metadata": {},
   "source": [
    "#### Cluster_SDI"
   ]
  },
  {
   "cell_type": "code",
   "execution_count": 11,
   "metadata": {},
   "outputs": [
    {
     "data": {
      "text/html": [
       "<div>\n",
       "<style scoped>\n",
       "    .dataframe tbody tr th:only-of-type {\n",
       "        vertical-align: middle;\n",
       "    }\n",
       "\n",
       "    .dataframe tbody tr th {\n",
       "        vertical-align: top;\n",
       "    }\n",
       "\n",
       "    .dataframe thead th {\n",
       "        text-align: right;\n",
       "    }\n",
       "</style>\n",
       "<table border=\"1\" class=\"dataframe\">\n",
       "  <thead>\n",
       "    <tr style=\"text-align: right;\">\n",
       "      <th></th>\n",
       "      <th>cluster_sdi</th>\n",
       "      <th>country</th>\n",
       "      <th>year</th>\n",
       "      <th>risk</th>\n",
       "      <th>ASR</th>\n",
       "      <th>SDI</th>\n",
       "    </tr>\n",
       "  </thead>\n",
       "  <tbody>\n",
       "    <tr>\n",
       "      <th>0</th>\n",
       "      <td>2</td>\n",
       "      <td>98</td>\n",
       "      <td>1990</td>\n",
       "      <td>5</td>\n",
       "      <td>0.245127</td>\n",
       "      <td>0.433</td>\n",
       "    </tr>\n",
       "    <tr>\n",
       "      <th>1</th>\n",
       "      <td>2</td>\n",
       "      <td>98</td>\n",
       "      <td>1990</td>\n",
       "      <td>4</td>\n",
       "      <td>0.102353</td>\n",
       "      <td>0.433</td>\n",
       "    </tr>\n",
       "    <tr>\n",
       "      <th>2</th>\n",
       "      <td>2</td>\n",
       "      <td>98</td>\n",
       "      <td>1990</td>\n",
       "      <td>3</td>\n",
       "      <td>0.484631</td>\n",
       "      <td>0.433</td>\n",
       "    </tr>\n",
       "    <tr>\n",
       "      <th>3</th>\n",
       "      <td>2</td>\n",
       "      <td>98</td>\n",
       "      <td>1990</td>\n",
       "      <td>1</td>\n",
       "      <td>0.144456</td>\n",
       "      <td>0.433</td>\n",
       "    </tr>\n",
       "    <tr>\n",
       "      <th>4</th>\n",
       "      <td>2</td>\n",
       "      <td>98</td>\n",
       "      <td>1990</td>\n",
       "      <td>2</td>\n",
       "      <td>0.045454</td>\n",
       "      <td>0.433</td>\n",
       "    </tr>\n",
       "    <tr>\n",
       "      <th>...</th>\n",
       "      <td>...</td>\n",
       "      <td>...</td>\n",
       "      <td>...</td>\n",
       "      <td>...</td>\n",
       "      <td>...</td>\n",
       "      <td>...</td>\n",
       "    </tr>\n",
       "    <tr>\n",
       "      <th>23755</th>\n",
       "      <td>2</td>\n",
       "      <td>205</td>\n",
       "      <td>2013</td>\n",
       "      <td>5</td>\n",
       "      <td>0.525811</td>\n",
       "      <td>0.460</td>\n",
       "    </tr>\n",
       "    <tr>\n",
       "      <th>23756</th>\n",
       "      <td>2</td>\n",
       "      <td>205</td>\n",
       "      <td>2013</td>\n",
       "      <td>4</td>\n",
       "      <td>0.047111</td>\n",
       "      <td>0.460</td>\n",
       "    </tr>\n",
       "    <tr>\n",
       "      <th>23757</th>\n",
       "      <td>2</td>\n",
       "      <td>205</td>\n",
       "      <td>2013</td>\n",
       "      <td>3</td>\n",
       "      <td>3.085332</td>\n",
       "      <td>0.460</td>\n",
       "    </tr>\n",
       "    <tr>\n",
       "      <th>23758</th>\n",
       "      <td>2</td>\n",
       "      <td>205</td>\n",
       "      <td>2013</td>\n",
       "      <td>1</td>\n",
       "      <td>0.434078</td>\n",
       "      <td>0.460</td>\n",
       "    </tr>\n",
       "    <tr>\n",
       "      <th>23759</th>\n",
       "      <td>2</td>\n",
       "      <td>205</td>\n",
       "      <td>2013</td>\n",
       "      <td>2</td>\n",
       "      <td>0.128322</td>\n",
       "      <td>0.460</td>\n",
       "    </tr>\n",
       "  </tbody>\n",
       "</table>\n",
       "<p>23760 rows × 6 columns</p>\n",
       "</div>"
      ],
      "text/plain": [
       "       cluster_sdi  country  year  risk       ASR    SDI\n",
       "0                2       98  1990     5  0.245127  0.433\n",
       "1                2       98  1990     4  0.102353  0.433\n",
       "2                2       98  1990     3  0.484631  0.433\n",
       "3                2       98  1990     1  0.144456  0.433\n",
       "4                2       98  1990     2  0.045454  0.433\n",
       "...            ...      ...   ...   ...       ...    ...\n",
       "23755            2      205  2013     5  0.525811  0.460\n",
       "23756            2      205  2013     4  0.047111  0.460\n",
       "23757            2      205  2013     3  3.085332  0.460\n",
       "23758            2      205  2013     1  0.434078  0.460\n",
       "23759            2      205  2013     2  0.128322  0.460\n",
       "\n",
       "[23760 rows x 6 columns]"
      ]
     },
     "execution_count": 11,
     "metadata": {},
     "output_type": "execute_result"
    }
   ],
   "source": [
    "# Dictionary containing risk-id pairs\n",
    "sdi_mapping = {\n",
    "    \"Middle\" : 1\n",
    "    ,\"Low\":2\n",
    "    ,\"Low-middle\":3\n",
    "    ,\"High\": 4\n",
    "    ,\"High-middle\":5\n",
    "}\n",
    "\n",
    "df_train['cluster_sdi'].replace(sdi_mapping, inplace=True)\n",
    "df_test['cluster_sdi'].replace(sdi_mapping, inplace=True)\n",
    "df_train"
   ]
  },
  {
   "cell_type": "markdown",
   "metadata": {},
   "source": [
    "### X-Y splitting"
   ]
  },
  {
   "cell_type": "code",
   "execution_count": 12,
   "metadata": {},
   "outputs": [],
   "source": [
    "x_train = df_train.drop([\"ASR\"], axis=1) # keeping only the target column\n",
    "x_test = df_test.drop([\"ASR\"], axis=1)\n",
    "y_train = df_train.drop(['cluster_sdi','country','year','risk','SDI'], axis = 1) # keeping all except the target column\n",
    "y_test = df_test.drop(['cluster_sdi','country','year','risk','SDI'], axis = 1)"
   ]
  },
  {
   "cell_type": "markdown",
   "metadata": {},
   "source": [
    "### Scaling"
   ]
  },
  {
   "cell_type": "code",
   "execution_count": 13,
   "metadata": {},
   "outputs": [],
   "source": [
    "# Scaler fitting\n",
    "transf_fitd_x_train = MAScl().fit(x_train)\n",
    "transf_fitd_x_test = MAScl().fit(x_test)\n",
    "transf_fitd_y_train = MAScl().fit(y_train)\n",
    "transf_fitd_y_test = MAScl().fit(y_test)\n",
    "\n",
    "# Scaling\n",
    "x_train = transf_fitd_x_train.transform(x_train)\n",
    "x_test = transf_fitd_x_test.transform(x_test)\n",
    "y_train = transf_fitd_y_train.transform(y_train)\n",
    "y_test = transf_fitd_y_test.transform(y_test)"
   ]
  },
  {
   "cell_type": "markdown",
   "metadata": {},
   "source": [
    "## Training"
   ]
  },
  {
   "cell_type": "markdown",
   "metadata": {},
   "source": [
    "### GradientBoostingRegressor"
   ]
  },
  {
   "cell_type": "code",
   "execution_count": 14,
   "metadata": {},
   "outputs": [
    {
     "name": "stderr",
     "output_type": "stream",
     "text": [
      "c:\\Users\\ArieleBernasconi\\AppData\\Local\\Programs\\Python\\Python312\\Lib\\site-packages\\sklearn\\ensemble\\_gb.py:424: DataConversionWarning: A column-vector y was passed when a 1d array was expected. Please change the shape of y to (n_samples, ), for example using ravel().\n",
      "  y = column_or_1d(y, warn=True)\n"
     ]
    }
   ],
   "source": [
    "GBR = gbr(random_state=42)\n",
    "GBR = GBR.fit(x_train,y_train)"
   ]
  },
  {
   "cell_type": "code",
   "execution_count": 15,
   "metadata": {},
   "outputs": [
    {
     "name": "stdout",
     "output_type": "stream",
     "text": [
      "GradientBoostingRegressor score: 0.49638621013754225\n"
     ]
    }
   ],
   "source": [
    "GBRPred= GBR.predict(x_test)\n",
    "print(\"GradientBoostingRegressor score:\",GBR.score(x_test,y_test))"
   ]
  },
  {
   "cell_type": "code",
   "execution_count": 16,
   "metadata": {},
   "outputs": [
    {
     "data": {
      "image/png": "[encoded data removed]",
      "text/plain": [
       "<Figure size 800x800 with 1 Axes>"
      ]
     },
     "metadata": {},
     "output_type": "display_data"
    }
   ],
   "source": [
    "plt.figure(figsize=(8,8))\n",
    "plt.scatter(y_test,GBRPred)\n",
    "plt.xlabel(\"Y testing\")\n",
    "plt.xlim(0,1.2)\n",
    "plt.ylabel(\"Y predicted\")\n",
    "plt.ylim(0,1.2)\n",
    "plt.title(\"Gradient Boosting Regressor results (predicted V.S. true)\")\n",
    "plt.plot([0,10],[0,10],'r:') #questa linea aggiunge la riga\n",
    "plt.show()"
   ]
  },
  {
   "cell_type": "markdown",
   "metadata": {},
   "source": [
    "#### Metrics"
   ]
  },
  {
   "cell_type": "code",
   "execution_count": 17,
   "metadata": {},
   "outputs": [],
   "source": [
    "gbr_metrics ={\n",
    "    \"mae\":mean_absolute_error(y_test, GBRPred)\n",
    "    ,\"mse\":mean_squared_error(y_test, GBRPred)\n",
    "    ,\"r2\":r2_score(y_test, GBRPred)\n",
    "}\n",
    "with open('Metrics/regression metrics/gbr_metrics.json', 'w') as json_file:\n",
    "    json.dump(gbr_metrics, json_file)"
   ]
  },
  {
   "cell_type": "markdown",
   "metadata": {},
   "source": [
    "#### Pickle"
   ]
  },
  {
   "cell_type": "code",
   "execution_count": 18,
   "metadata": {},
   "outputs": [],
   "source": [
    "with open('Pickles/regressors//GradientBoostingRegressor_parameters.pkl', 'wb') as file:\n",
    "    pickle.dump(GBR.get_params(), file)"
   ]
  },
  {
   "cell_type": "markdown",
   "metadata": {},
   "source": [
    "### HistGradientBoostingRegressor"
   ]
  },
  {
   "cell_type": "code",
   "execution_count": 19,
   "metadata": {},
   "outputs": [
    {
     "name": "stderr",
     "output_type": "stream",
     "text": [
      "c:\\Users\\ArieleBernasconi\\AppData\\Local\\Programs\\Python\\Python312\\Lib\\site-packages\\sklearn\\utils\\validation.py:1183: DataConversionWarning: A column-vector y was passed when a 1d array was expected. Please change the shape of y to (n_samples, ), for example using ravel().\n",
      "  y = column_or_1d(y, warn=True)\n"
     ]
    }
   ],
   "source": [
    "HGBR = hgbr(random_state = 42)\n",
    "HGBR = HGBR.fit(x_train,y_train)"
   ]
  },
  {
   "cell_type": "code",
   "execution_count": 20,
   "metadata": {},
   "outputs": [
    {
     "name": "stdout",
     "output_type": "stream",
     "text": [
      "HistGradientBoostingRegressor score:  0.8306138837447581\n"
     ]
    }
   ],
   "source": [
    "HGBRPred = HGBR.predict(x_test)\n",
    "print(\"HistGradientBoostingRegressor score: \", HGBR.score(x_test,y_test))"
   ]
  },
  {
   "cell_type": "markdown",
   "metadata": {},
   "source": [
    "#### Metrics"
   ]
  },
  {
   "cell_type": "code",
   "execution_count": 21,
   "metadata": {},
   "outputs": [
    {
     "data": {
      "image/png": "[encoded data removed]",
      "text/plain": [
       "<Figure size 800x800 with 1 Axes>"
      ]
     },
     "metadata": {},
     "output_type": "display_data"
    }
   ],
   "source": [
    "plt.figure(figsize=(8,8))\n",
    "plt.scatter(y_test,HGBRPred)\n",
    "plt.xlabel(\"Y testing\")\n",
    "plt.xlim(0,1.2)\n",
    "plt.ylabel(\"Y predicted\")\n",
    "plt.ylim(0,1.2)\n",
    "plt.title(\"HistGradientBoosting results (predicted V.S. true)\")\n",
    "plt.plot([0,10],[0,10],'r:') \n",
    "plt.show()"
   ]
  },
  {
   "cell_type": "code",
   "execution_count": 22,
   "metadata": {},
   "outputs": [],
   "source": [
    "hgbr_metrics ={\n",
    "    \"mae\":mean_absolute_error(y_test, HGBRPred)\n",
    "    ,\"mse\":mean_squared_error(y_test, HGBRPred)\n",
    "    ,\"r2\":r2_score(y_test, HGBRPred)\n",
    "}\n",
    "with open('Metrics/regression metrics/hist_gbr_metrics.json', 'w') as json_file:\n",
    "    json.dump(hgbr_metrics, json_file)"
   ]
  },
  {
   "cell_type": "markdown",
   "metadata": {},
   "source": [
    "#### Pickle"
   ]
  },
  {
   "cell_type": "code",
   "execution_count": 23,
   "metadata": {},
   "outputs": [],
   "source": [
    "with open('Pickles/regressors/HistGradientBoostingRegressor_parameters.pkl', 'wb') as file:\n",
    "    pickle.dump(HGBR.get_params(), file)"
   ]
  },
  {
   "cell_type": "markdown",
   "metadata": {},
   "source": [
    "### Voting Regressor"
   ]
  },
  {
   "cell_type": "code",
   "execution_count": 24,
   "metadata": {},
   "outputs": [
    {
     "name": "stderr",
     "output_type": "stream",
     "text": [
      "c:\\Users\\ArieleBernasconi\\AppData\\Local\\Programs\\Python\\Python312\\Lib\\site-packages\\sklearn\\ensemble\\_voting.py:604: DataConversionWarning: A column-vector y was passed when a 1d array was expected. Please change the shape of y to (n_samples, ), for example using ravel().\n",
      "  y = column_or_1d(y, warn=True)\n"
     ]
    },
    {
     "data": {
      "text/html": [
       "<style>#sk-container-id-1 {color: black;}#sk-container-id-1 pre{padding: 0;}#sk-container-id-1 div.sk-toggleable {background-color: white;}#sk-container-id-1 label.sk-toggleable__label {cursor: pointer;display: block;width: 100%;margin-bottom: 0;padding: 0.3em;box-sizing: border-box;text-align: center;}#sk-container-id-1 label.sk-toggleable__label-arrow:before {content: \"▸\";float: left;margin-right: 0.25em;color: #696969;}#sk-container-id-1 label.sk-toggleable__label-arrow:hover:before {color: black;}#sk-container-id-1 div.sk-estimator:hover label.sk-toggleable__label-arrow:before {color: black;}#sk-container-id-1 div.sk-toggleable__content {max-height: 0;max-width: 0;overflow: hidden;text-align: left;background-color: #f0f8ff;}#sk-container-id-1 div.sk-toggleable__content pre {margin: 0.2em;color: black;border-radius: 0.25em;background-color: #f0f8ff;}#sk-container-id-1 input.sk-toggleable__control:checked~div.sk-toggleable__content {max-height: 200px;max-width: 100%;overflow: auto;}#sk-container-id-1 input.sk-toggleable__control:checked~label.sk-toggleable__label-arrow:before {content: \"▾\";}#sk-container-id-1 div.sk-estimator input.sk-toggleable__control:checked~label.sk-toggleable__label {background-color: #d4ebff;}#sk-container-id-1 div.sk-label input.sk-toggleable__control:checked~label.sk-toggleable__label {background-color: #d4ebff;}#sk-container-id-1 input.sk-hidden--visually {border: 0;clip: rect(1px 1px 1px 1px);clip: rect(1px, 1px, 1px, 1px);height: 1px;margin: -1px;overflow: hidden;padding: 0;position: absolute;width: 1px;}#sk-container-id-1 div.sk-estimator {font-family: monospace;background-color: #f0f8ff;border: 1px dotted black;border-radius: 0.25em;box-sizing: border-box;margin-bottom: 0.5em;}#sk-container-id-1 div.sk-estimator:hover {background-color: #d4ebff;}#sk-container-id-1 div.sk-parallel-item::after {content: \"\";width: 100%;border-bottom: 1px solid gray;flex-grow: 1;}#sk-container-id-1 div.sk-label:hover label.sk-toggleable__label {background-color: #d4ebff;}#sk-container-id-1 div.sk-serial::before {content: \"\";position: absolute;border-left: 1px solid gray;box-sizing: border-box;top: 0;bottom: 0;left: 50%;z-index: 0;}#sk-container-id-1 div.sk-serial {display: flex;flex-direction: column;align-items: center;background-color: white;padding-right: 0.2em;padding-left: 0.2em;position: relative;}#sk-container-id-1 div.sk-item {position: relative;z-index: 1;}#sk-container-id-1 div.sk-parallel {display: flex;align-items: stretch;justify-content: center;background-color: white;position: relative;}#sk-container-id-1 div.sk-item::before, #sk-container-id-1 div.sk-parallel-item::before {content: \"\";position: absolute;border-left: 1px solid gray;box-sizing: border-box;top: 0;bottom: 0;left: 50%;z-index: -1;}#sk-container-id-1 div.sk-parallel-item {display: flex;flex-direction: column;z-index: 1;position: relative;background-color: white;}#sk-container-id-1 div.sk-parallel-item:first-child::after {align-self: flex-end;width: 50%;}#sk-container-id-1 div.sk-parallel-item:last-child::after {align-self: flex-start;width: 50%;}#sk-container-id-1 div.sk-parallel-item:only-child::after {width: 0;}#sk-container-id-1 div.sk-dashed-wrapped {border: 1px dashed gray;margin: 0 0.4em 0.5em 0.4em;box-sizing: border-box;padding-bottom: 0.4em;background-color: white;}#sk-container-id-1 div.sk-label label {font-family: monospace;font-weight: bold;display: inline-block;line-height: 1.2em;}#sk-container-id-1 div.sk-label-container {text-align: center;}#sk-container-id-1 div.sk-container {/* jupyter's `normalize.less` sets `[hidden] { display: none; }` but bootstrap.min.css set `[hidden] { display: none !important; }` so we also need the `!important` here to be able to override the default hidden behavior on the sphinx rendered scikit-learn.org. See: https://github.com/scikit-learn/scikit-learn/issues/21755 */display: inline-block !important;position: relative;}#sk-container-id-1 div.sk-text-repr-fallback {display: none;}</style><div id=\"sk-container-id-1\" class=\"sk-top-container\"><div class=\"sk-text-repr-fallback\"><pre>VotingRegressor(estimators=[(&#x27;gbr&#x27;, GradientBoostingRegressor(random_state=42)),\n",
       "                            (&#x27;hgbr&#x27;,\n",
       "                             HistGradientBoostingRegressor(random_state=42))])</pre><b>In a Jupyter environment, please rerun this cell to show the HTML representation or trust the notebook. <br />On GitHub, the HTML representation is unable to render, please try loading this page with nbviewer.org.</b></div><div class=\"sk-container\" hidden><div class=\"sk-item sk-dashed-wrapped\"><div class=\"sk-label-container\"><div class=\"sk-label sk-toggleable\"><input class=\"sk-toggleable__control sk-hidden--visually\" id=\"sk-estimator-id-1\" type=\"checkbox\" ><label for=\"sk-estimator-id-1\" class=\"sk-toggleable__label sk-toggleable__label-arrow\">VotingRegressor</label><div class=\"sk-toggleable__content\"><pre>VotingRegressor(estimators=[(&#x27;gbr&#x27;, GradientBoostingRegressor(random_state=42)),\n",
       "                            (&#x27;hgbr&#x27;,\n",
       "                             HistGradientBoostingRegressor(random_state=42))])</pre></div></div></div><div class=\"sk-parallel\"><div class=\"sk-parallel-item\"><div class=\"sk-item\"><div class=\"sk-label-container\"><div class=\"sk-label sk-toggleable\"><label>gbr</label></div></div><div class=\"sk-serial\"><div class=\"sk-item\"><div class=\"sk-estimator sk-toggleable\"><input class=\"sk-toggleable__control sk-hidden--visually\" id=\"sk-estimator-id-2\" type=\"checkbox\" ><label for=\"sk-estimator-id-2\" class=\"sk-toggleable__label sk-toggleable__label-arrow\">GradientBoostingRegressor</label><div class=\"sk-toggleable__content\"><pre>GradientBoostingRegressor(random_state=42)</pre></div></div></div></div></div></div><div class=\"sk-parallel-item\"><div class=\"sk-item\"><div class=\"sk-label-container\"><div class=\"sk-label sk-toggleable\"><label>hgbr</label></div></div><div class=\"sk-serial\"><div class=\"sk-item\"><div class=\"sk-estimator sk-toggleable\"><input class=\"sk-toggleable__control sk-hidden--visually\" id=\"sk-estimator-id-3\" type=\"checkbox\" ><label for=\"sk-estimator-id-3\" class=\"sk-toggleable__label sk-toggleable__label-arrow\">HistGradientBoostingRegressor</label><div class=\"sk-toggleable__content\"><pre>HistGradientBoostingRegressor(random_state=42)</pre></div></div></div></div></div></div></div></div></div></div>"
      ],
      "text/plain": [
       "VotingRegressor(estimators=[('gbr', GradientBoostingRegressor(random_state=42)),\n",
       "                            ('hgbr',\n",
       "                             HistGradientBoostingRegressor(random_state=42))])"
      ]
     },
     "execution_count": 24,
     "metadata": {},
     "output_type": "execute_result"
    }
   ],
   "source": [
    "Voting =  VotingRegressor([('gbr',GBR),('hgbr',HGBR)])\n",
    "Voting.fit(x_train,y_train)"
   ]
  },
  {
   "cell_type": "code",
   "execution_count": 25,
   "metadata": {},
   "outputs": [
    {
     "name": "stdout",
     "output_type": "stream",
     "text": [
      "Voting score:  0.7209126491933504\n"
     ]
    }
   ],
   "source": [
    "VotingPred = Voting.predict(x_test)\n",
    "print(\"Voting score: \", Voting.score(x_test,y_test))"
   ]
  },
  {
   "cell_type": "markdown",
   "metadata": {},
   "source": [
    "#### Metrics"
   ]
  },
  {
   "cell_type": "code",
   "execution_count": 26,
   "metadata": {},
   "outputs": [],
   "source": [
    "voting_metrics ={\n",
    "    \"mae\":mean_absolute_error(y_test, VotingPred)\n",
    "    ,\"mse\":mean_squared_error(y_test, VotingPred)\n",
    "    ,\"r2\":r2_score(y_test, VotingPred)\n",
    "}\n",
    "with open('Metrics/regression metrics/voting_metrics.json', 'w') as json_file:\n",
    "    json.dump(voting_metrics, json_file)"
   ]
  },
  {
   "cell_type": "code",
   "execution_count": 27,
   "metadata": {},
   "outputs": [
    {
     "data": {
      "image/png": "[encoded data removed]",
      "text/plain": [
       "<Figure size 800x800 with 1 Axes>"
      ]
     },
     "metadata": {},
     "output_type": "display_data"
    }
   ],
   "source": [
    "plt.figure(figsize=(8,8))\n",
    "plt.scatter(y_test,VotingPred)\n",
    "plt.xlabel(\"Y testing\")\n",
    "plt.xlim(0,1.2)\n",
    "plt.ylabel(\"Y predicted\")\n",
    "plt.ylim(0,1.2)\n",
    "plt.title(\"Voting Ensemble results (predicted V.S. true)\")\n",
    "plt.plot([0,10],[0,10],'r:') #questa linea aggiunge la riga\n",
    "plt.show()"
   ]
  },
  {
   "cell_type": "markdown",
   "metadata": {},
   "source": [
    "#### Pickle"
   ]
  },
  {
   "cell_type": "code",
   "execution_count": 28,
   "metadata": {},
   "outputs": [],
   "source": [
    "with open('Pickles/regressors/voting_parameters.pkl', 'wb') as file:\n",
    "    pickle.dump(Voting.get_params(), file)"
   ]
  }
 ],
 "metadata": {
  "kernelspec": {
   "display_name": "Python 3",
   "language": "python",
   "name": "python3"
  },
  "language_info": {
   "codemirror_mode": {
    "name": "ipython",
    "version": 3
   },
   "file_extension": ".py",
   "mimetype": "text/x-python",
   "name": "python",
   "nbconvert_exporter": "python",
   "pygments_lexer": "ipython3",
   "version": "3.12.1"
  }
 },
 "nbformat": 4,
 "nbformat_minor": 2
}
